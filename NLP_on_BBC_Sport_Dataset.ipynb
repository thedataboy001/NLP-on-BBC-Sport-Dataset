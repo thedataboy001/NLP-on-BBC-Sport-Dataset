{
  "nbformat": 4,
  "nbformat_minor": 0,
  "metadata": {
    "colab": {
      "provenance": [],
      "gpuType": "T4"
    },
    "kernelspec": {
      "name": "python3",
      "display_name": "Python 3"
    },
    "language_info": {
      "name": "python"
    },
    "accelerator": "GPU",
    "widgets": {
      "application/vnd.jupyter.widget-state+json": {
        "1913c832276542e09731ff55b005e5fa": {
          "model_module": "@jupyter-widgets/controls",
          "model_name": "HBoxModel",
          "model_module_version": "1.5.0",
          "state": {
            "_dom_classes": [],
            "_model_module": "@jupyter-widgets/controls",
            "_model_module_version": "1.5.0",
            "_model_name": "HBoxModel",
            "_view_count": null,
            "_view_module": "@jupyter-widgets/controls",
            "_view_module_version": "1.5.0",
            "_view_name": "HBoxView",
            "box_style": "",
            "children": [
              "IPY_MODEL_74c7ba4929e0492f835cc0b00afc2b19",
              "IPY_MODEL_8590cb63e7154935a3adadb7029d5047",
              "IPY_MODEL_f7acb7294a0e4817bfb112a4b172177f"
            ],
            "layout": "IPY_MODEL_82d7d187b6a64ef888c50507d3df968b"
          }
        },
        "74c7ba4929e0492f835cc0b00afc2b19": {
          "model_module": "@jupyter-widgets/controls",
          "model_name": "HTMLModel",
          "model_module_version": "1.5.0",
          "state": {
            "_dom_classes": [],
            "_model_module": "@jupyter-widgets/controls",
            "_model_module_version": "1.5.0",
            "_model_name": "HTMLModel",
            "_view_count": null,
            "_view_module": "@jupyter-widgets/controls",
            "_view_module_version": "1.5.0",
            "_view_name": "HTMLView",
            "description": "",
            "description_tooltip": null,
            "layout": "IPY_MODEL_b3ef90e2e9044ef684986cef4b9e8995",
            "placeholder": "​",
            "style": "IPY_MODEL_1249483a9d254e0fa05bdcf63f36e2df",
            "value": "config.json: 100%"
          }
        },
        "8590cb63e7154935a3adadb7029d5047": {
          "model_module": "@jupyter-widgets/controls",
          "model_name": "FloatProgressModel",
          "model_module_version": "1.5.0",
          "state": {
            "_dom_classes": [],
            "_model_module": "@jupyter-widgets/controls",
            "_model_module_version": "1.5.0",
            "_model_name": "FloatProgressModel",
            "_view_count": null,
            "_view_module": "@jupyter-widgets/controls",
            "_view_module_version": "1.5.0",
            "_view_name": "ProgressView",
            "bar_style": "success",
            "description": "",
            "description_tooltip": null,
            "layout": "IPY_MODEL_28ff0cdff1cd4d90a23e26a146890ed1",
            "max": 998,
            "min": 0,
            "orientation": "horizontal",
            "style": "IPY_MODEL_7009bd869af84f2ab496fcad3db4beff",
            "value": 998
          }
        },
        "f7acb7294a0e4817bfb112a4b172177f": {
          "model_module": "@jupyter-widgets/controls",
          "model_name": "HTMLModel",
          "model_module_version": "1.5.0",
          "state": {
            "_dom_classes": [],
            "_model_module": "@jupyter-widgets/controls",
            "_model_module_version": "1.5.0",
            "_model_name": "HTMLModel",
            "_view_count": null,
            "_view_module": "@jupyter-widgets/controls",
            "_view_module_version": "1.5.0",
            "_view_name": "HTMLView",
            "description": "",
            "description_tooltip": null,
            "layout": "IPY_MODEL_8ce5d1cb9a9045a2a90bc2c0e8bfe375",
            "placeholder": "​",
            "style": "IPY_MODEL_8d6e2566c86346b2896579f26e347042",
            "value": " 998/998 [00:00&lt;00:00, 50.8kB/s]"
          }
        },
        "82d7d187b6a64ef888c50507d3df968b": {
          "model_module": "@jupyter-widgets/base",
          "model_name": "LayoutModel",
          "model_module_version": "1.2.0",
          "state": {
            "_model_module": "@jupyter-widgets/base",
            "_model_module_version": "1.2.0",
            "_model_name": "LayoutModel",
            "_view_count": null,
            "_view_module": "@jupyter-widgets/base",
            "_view_module_version": "1.2.0",
            "_view_name": "LayoutView",
            "align_content": null,
            "align_items": null,
            "align_self": null,
            "border": null,
            "bottom": null,
            "display": null,
            "flex": null,
            "flex_flow": null,
            "grid_area": null,
            "grid_auto_columns": null,
            "grid_auto_flow": null,
            "grid_auto_rows": null,
            "grid_column": null,
            "grid_gap": null,
            "grid_row": null,
            "grid_template_areas": null,
            "grid_template_columns": null,
            "grid_template_rows": null,
            "height": null,
            "justify_content": null,
            "justify_items": null,
            "left": null,
            "margin": null,
            "max_height": null,
            "max_width": null,
            "min_height": null,
            "min_width": null,
            "object_fit": null,
            "object_position": null,
            "order": null,
            "overflow": null,
            "overflow_x": null,
            "overflow_y": null,
            "padding": null,
            "right": null,
            "top": null,
            "visibility": null,
            "width": null
          }
        },
        "b3ef90e2e9044ef684986cef4b9e8995": {
          "model_module": "@jupyter-widgets/base",
          "model_name": "LayoutModel",
          "model_module_version": "1.2.0",
          "state": {
            "_model_module": "@jupyter-widgets/base",
            "_model_module_version": "1.2.0",
            "_model_name": "LayoutModel",
            "_view_count": null,
            "_view_module": "@jupyter-widgets/base",
            "_view_module_version": "1.2.0",
            "_view_name": "LayoutView",
            "align_content": null,
            "align_items": null,
            "align_self": null,
            "border": null,
            "bottom": null,
            "display": null,
            "flex": null,
            "flex_flow": null,
            "grid_area": null,
            "grid_auto_columns": null,
            "grid_auto_flow": null,
            "grid_auto_rows": null,
            "grid_column": null,
            "grid_gap": null,
            "grid_row": null,
            "grid_template_areas": null,
            "grid_template_columns": null,
            "grid_template_rows": null,
            "height": null,
            "justify_content": null,
            "justify_items": null,
            "left": null,
            "margin": null,
            "max_height": null,
            "max_width": null,
            "min_height": null,
            "min_width": null,
            "object_fit": null,
            "object_position": null,
            "order": null,
            "overflow": null,
            "overflow_x": null,
            "overflow_y": null,
            "padding": null,
            "right": null,
            "top": null,
            "visibility": null,
            "width": null
          }
        },
        "1249483a9d254e0fa05bdcf63f36e2df": {
          "model_module": "@jupyter-widgets/controls",
          "model_name": "DescriptionStyleModel",
          "model_module_version": "1.5.0",
          "state": {
            "_model_module": "@jupyter-widgets/controls",
            "_model_module_version": "1.5.0",
            "_model_name": "DescriptionStyleModel",
            "_view_count": null,
            "_view_module": "@jupyter-widgets/base",
            "_view_module_version": "1.2.0",
            "_view_name": "StyleView",
            "description_width": ""
          }
        },
        "28ff0cdff1cd4d90a23e26a146890ed1": {
          "model_module": "@jupyter-widgets/base",
          "model_name": "LayoutModel",
          "model_module_version": "1.2.0",
          "state": {
            "_model_module": "@jupyter-widgets/base",
            "_model_module_version": "1.2.0",
            "_model_name": "LayoutModel",
            "_view_count": null,
            "_view_module": "@jupyter-widgets/base",
            "_view_module_version": "1.2.0",
            "_view_name": "LayoutView",
            "align_content": null,
            "align_items": null,
            "align_self": null,
            "border": null,
            "bottom": null,
            "display": null,
            "flex": null,
            "flex_flow": null,
            "grid_area": null,
            "grid_auto_columns": null,
            "grid_auto_flow": null,
            "grid_auto_rows": null,
            "grid_column": null,
            "grid_gap": null,
            "grid_row": null,
            "grid_template_areas": null,
            "grid_template_columns": null,
            "grid_template_rows": null,
            "height": null,
            "justify_content": null,
            "justify_items": null,
            "left": null,
            "margin": null,
            "max_height": null,
            "max_width": null,
            "min_height": null,
            "min_width": null,
            "object_fit": null,
            "object_position": null,
            "order": null,
            "overflow": null,
            "overflow_x": null,
            "overflow_y": null,
            "padding": null,
            "right": null,
            "top": null,
            "visibility": null,
            "width": null
          }
        },
        "7009bd869af84f2ab496fcad3db4beff": {
          "model_module": "@jupyter-widgets/controls",
          "model_name": "ProgressStyleModel",
          "model_module_version": "1.5.0",
          "state": {
            "_model_module": "@jupyter-widgets/controls",
            "_model_module_version": "1.5.0",
            "_model_name": "ProgressStyleModel",
            "_view_count": null,
            "_view_module": "@jupyter-widgets/base",
            "_view_module_version": "1.2.0",
            "_view_name": "StyleView",
            "bar_color": null,
            "description_width": ""
          }
        },
        "8ce5d1cb9a9045a2a90bc2c0e8bfe375": {
          "model_module": "@jupyter-widgets/base",
          "model_name": "LayoutModel",
          "model_module_version": "1.2.0",
          "state": {
            "_model_module": "@jupyter-widgets/base",
            "_model_module_version": "1.2.0",
            "_model_name": "LayoutModel",
            "_view_count": null,
            "_view_module": "@jupyter-widgets/base",
            "_view_module_version": "1.2.0",
            "_view_name": "LayoutView",
            "align_content": null,
            "align_items": null,
            "align_self": null,
            "border": null,
            "bottom": null,
            "display": null,
            "flex": null,
            "flex_flow": null,
            "grid_area": null,
            "grid_auto_columns": null,
            "grid_auto_flow": null,
            "grid_auto_rows": null,
            "grid_column": null,
            "grid_gap": null,
            "grid_row": null,
            "grid_template_areas": null,
            "grid_template_columns": null,
            "grid_template_rows": null,
            "height": null,
            "justify_content": null,
            "justify_items": null,
            "left": null,
            "margin": null,
            "max_height": null,
            "max_width": null,
            "min_height": null,
            "min_width": null,
            "object_fit": null,
            "object_position": null,
            "order": null,
            "overflow": null,
            "overflow_x": null,
            "overflow_y": null,
            "padding": null,
            "right": null,
            "top": null,
            "visibility": null,
            "width": null
          }
        },
        "8d6e2566c86346b2896579f26e347042": {
          "model_module": "@jupyter-widgets/controls",
          "model_name": "DescriptionStyleModel",
          "model_module_version": "1.5.0",
          "state": {
            "_model_module": "@jupyter-widgets/controls",
            "_model_module_version": "1.5.0",
            "_model_name": "DescriptionStyleModel",
            "_view_count": null,
            "_view_module": "@jupyter-widgets/base",
            "_view_module_version": "1.2.0",
            "_view_name": "StyleView",
            "description_width": ""
          }
        },
        "c2709afd22044e0084a03fdc83326bac": {
          "model_module": "@jupyter-widgets/controls",
          "model_name": "HBoxModel",
          "model_module_version": "1.5.0",
          "state": {
            "_dom_classes": [],
            "_model_module": "@jupyter-widgets/controls",
            "_model_module_version": "1.5.0",
            "_model_name": "HBoxModel",
            "_view_count": null,
            "_view_module": "@jupyter-widgets/controls",
            "_view_module_version": "1.5.0",
            "_view_name": "HBoxView",
            "box_style": "",
            "children": [
              "IPY_MODEL_dbb51919558b497981f127e1e60d2d84",
              "IPY_MODEL_3fcf038280454da895403404998743cb",
              "IPY_MODEL_b11514640a474929a2aa850f8110a1fa"
            ],
            "layout": "IPY_MODEL_589d1491cdea4b009fd2f4f8d11f804b"
          }
        },
        "dbb51919558b497981f127e1e60d2d84": {
          "model_module": "@jupyter-widgets/controls",
          "model_name": "HTMLModel",
          "model_module_version": "1.5.0",
          "state": {
            "_dom_classes": [],
            "_model_module": "@jupyter-widgets/controls",
            "_model_module_version": "1.5.0",
            "_model_name": "HTMLModel",
            "_view_count": null,
            "_view_module": "@jupyter-widgets/controls",
            "_view_module_version": "1.5.0",
            "_view_name": "HTMLView",
            "description": "",
            "description_tooltip": null,
            "layout": "IPY_MODEL_d4a9aeeef33f4b778e223280ea49a392",
            "placeholder": "​",
            "style": "IPY_MODEL_6d9e27b5dfd84b7eb6b74e71e9d379d3",
            "value": "model.safetensors: 100%"
          }
        },
        "3fcf038280454da895403404998743cb": {
          "model_module": "@jupyter-widgets/controls",
          "model_name": "FloatProgressModel",
          "model_module_version": "1.5.0",
          "state": {
            "_dom_classes": [],
            "_model_module": "@jupyter-widgets/controls",
            "_model_module_version": "1.5.0",
            "_model_name": "FloatProgressModel",
            "_view_count": null,
            "_view_module": "@jupyter-widgets/controls",
            "_view_module_version": "1.5.0",
            "_view_name": "ProgressView",
            "bar_style": "success",
            "description": "",
            "description_tooltip": null,
            "layout": "IPY_MODEL_befe7b6d12d342cbbc766efb733c5fc9",
            "max": 1334400964,
            "min": 0,
            "orientation": "horizontal",
            "style": "IPY_MODEL_f1e8904808f141bfad381fba6c3c1aeb",
            "value": 1334400964
          }
        },
        "b11514640a474929a2aa850f8110a1fa": {
          "model_module": "@jupyter-widgets/controls",
          "model_name": "HTMLModel",
          "model_module_version": "1.5.0",
          "state": {
            "_dom_classes": [],
            "_model_module": "@jupyter-widgets/controls",
            "_model_module_version": "1.5.0",
            "_model_name": "HTMLModel",
            "_view_count": null,
            "_view_module": "@jupyter-widgets/controls",
            "_view_module_version": "1.5.0",
            "_view_name": "HTMLView",
            "description": "",
            "description_tooltip": null,
            "layout": "IPY_MODEL_9fe8096ccccf46999fe84882f118a16b",
            "placeholder": "​",
            "style": "IPY_MODEL_cdc8c0a618ce4fe186f4a2ae0637766b",
            "value": " 1.33G/1.33G [00:22&lt;00:00, 71.5MB/s]"
          }
        },
        "589d1491cdea4b009fd2f4f8d11f804b": {
          "model_module": "@jupyter-widgets/base",
          "model_name": "LayoutModel",
          "model_module_version": "1.2.0",
          "state": {
            "_model_module": "@jupyter-widgets/base",
            "_model_module_version": "1.2.0",
            "_model_name": "LayoutModel",
            "_view_count": null,
            "_view_module": "@jupyter-widgets/base",
            "_view_module_version": "1.2.0",
            "_view_name": "LayoutView",
            "align_content": null,
            "align_items": null,
            "align_self": null,
            "border": null,
            "bottom": null,
            "display": null,
            "flex": null,
            "flex_flow": null,
            "grid_area": null,
            "grid_auto_columns": null,
            "grid_auto_flow": null,
            "grid_auto_rows": null,
            "grid_column": null,
            "grid_gap": null,
            "grid_row": null,
            "grid_template_areas": null,
            "grid_template_columns": null,
            "grid_template_rows": null,
            "height": null,
            "justify_content": null,
            "justify_items": null,
            "left": null,
            "margin": null,
            "max_height": null,
            "max_width": null,
            "min_height": null,
            "min_width": null,
            "object_fit": null,
            "object_position": null,
            "order": null,
            "overflow": null,
            "overflow_x": null,
            "overflow_y": null,
            "padding": null,
            "right": null,
            "top": null,
            "visibility": null,
            "width": null
          }
        },
        "d4a9aeeef33f4b778e223280ea49a392": {
          "model_module": "@jupyter-widgets/base",
          "model_name": "LayoutModel",
          "model_module_version": "1.2.0",
          "state": {
            "_model_module": "@jupyter-widgets/base",
            "_model_module_version": "1.2.0",
            "_model_name": "LayoutModel",
            "_view_count": null,
            "_view_module": "@jupyter-widgets/base",
            "_view_module_version": "1.2.0",
            "_view_name": "LayoutView",
            "align_content": null,
            "align_items": null,
            "align_self": null,
            "border": null,
            "bottom": null,
            "display": null,
            "flex": null,
            "flex_flow": null,
            "grid_area": null,
            "grid_auto_columns": null,
            "grid_auto_flow": null,
            "grid_auto_rows": null,
            "grid_column": null,
            "grid_gap": null,
            "grid_row": null,
            "grid_template_areas": null,
            "grid_template_columns": null,
            "grid_template_rows": null,
            "height": null,
            "justify_content": null,
            "justify_items": null,
            "left": null,
            "margin": null,
            "max_height": null,
            "max_width": null,
            "min_height": null,
            "min_width": null,
            "object_fit": null,
            "object_position": null,
            "order": null,
            "overflow": null,
            "overflow_x": null,
            "overflow_y": null,
            "padding": null,
            "right": null,
            "top": null,
            "visibility": null,
            "width": null
          }
        },
        "6d9e27b5dfd84b7eb6b74e71e9d379d3": {
          "model_module": "@jupyter-widgets/controls",
          "model_name": "DescriptionStyleModel",
          "model_module_version": "1.5.0",
          "state": {
            "_model_module": "@jupyter-widgets/controls",
            "_model_module_version": "1.5.0",
            "_model_name": "DescriptionStyleModel",
            "_view_count": null,
            "_view_module": "@jupyter-widgets/base",
            "_view_module_version": "1.2.0",
            "_view_name": "StyleView",
            "description_width": ""
          }
        },
        "befe7b6d12d342cbbc766efb733c5fc9": {
          "model_module": "@jupyter-widgets/base",
          "model_name": "LayoutModel",
          "model_module_version": "1.2.0",
          "state": {
            "_model_module": "@jupyter-widgets/base",
            "_model_module_version": "1.2.0",
            "_model_name": "LayoutModel",
            "_view_count": null,
            "_view_module": "@jupyter-widgets/base",
            "_view_module_version": "1.2.0",
            "_view_name": "LayoutView",
            "align_content": null,
            "align_items": null,
            "align_self": null,
            "border": null,
            "bottom": null,
            "display": null,
            "flex": null,
            "flex_flow": null,
            "grid_area": null,
            "grid_auto_columns": null,
            "grid_auto_flow": null,
            "grid_auto_rows": null,
            "grid_column": null,
            "grid_gap": null,
            "grid_row": null,
            "grid_template_areas": null,
            "grid_template_columns": null,
            "grid_template_rows": null,
            "height": null,
            "justify_content": null,
            "justify_items": null,
            "left": null,
            "margin": null,
            "max_height": null,
            "max_width": null,
            "min_height": null,
            "min_width": null,
            "object_fit": null,
            "object_position": null,
            "order": null,
            "overflow": null,
            "overflow_x": null,
            "overflow_y": null,
            "padding": null,
            "right": null,
            "top": null,
            "visibility": null,
            "width": null
          }
        },
        "f1e8904808f141bfad381fba6c3c1aeb": {
          "model_module": "@jupyter-widgets/controls",
          "model_name": "ProgressStyleModel",
          "model_module_version": "1.5.0",
          "state": {
            "_model_module": "@jupyter-widgets/controls",
            "_model_module_version": "1.5.0",
            "_model_name": "ProgressStyleModel",
            "_view_count": null,
            "_view_module": "@jupyter-widgets/base",
            "_view_module_version": "1.2.0",
            "_view_name": "StyleView",
            "bar_color": null,
            "description_width": ""
          }
        },
        "9fe8096ccccf46999fe84882f118a16b": {
          "model_module": "@jupyter-widgets/base",
          "model_name": "LayoutModel",
          "model_module_version": "1.2.0",
          "state": {
            "_model_module": "@jupyter-widgets/base",
            "_model_module_version": "1.2.0",
            "_model_name": "LayoutModel",
            "_view_count": null,
            "_view_module": "@jupyter-widgets/base",
            "_view_module_version": "1.2.0",
            "_view_name": "LayoutView",
            "align_content": null,
            "align_items": null,
            "align_self": null,
            "border": null,
            "bottom": null,
            "display": null,
            "flex": null,
            "flex_flow": null,
            "grid_area": null,
            "grid_auto_columns": null,
            "grid_auto_flow": null,
            "grid_auto_rows": null,
            "grid_column": null,
            "grid_gap": null,
            "grid_row": null,
            "grid_template_areas": null,
            "grid_template_columns": null,
            "grid_template_rows": null,
            "height": null,
            "justify_content": null,
            "justify_items": null,
            "left": null,
            "margin": null,
            "max_height": null,
            "max_width": null,
            "min_height": null,
            "min_width": null,
            "object_fit": null,
            "object_position": null,
            "order": null,
            "overflow": null,
            "overflow_x": null,
            "overflow_y": null,
            "padding": null,
            "right": null,
            "top": null,
            "visibility": null,
            "width": null
          }
        },
        "cdc8c0a618ce4fe186f4a2ae0637766b": {
          "model_module": "@jupyter-widgets/controls",
          "model_name": "DescriptionStyleModel",
          "model_module_version": "1.5.0",
          "state": {
            "_model_module": "@jupyter-widgets/controls",
            "_model_module_version": "1.5.0",
            "_model_name": "DescriptionStyleModel",
            "_view_count": null,
            "_view_module": "@jupyter-widgets/base",
            "_view_module_version": "1.2.0",
            "_view_name": "StyleView",
            "description_width": ""
          }
        },
        "874f5eb89df54a289954d6391dc8380f": {
          "model_module": "@jupyter-widgets/controls",
          "model_name": "HBoxModel",
          "model_module_version": "1.5.0",
          "state": {
            "_dom_classes": [],
            "_model_module": "@jupyter-widgets/controls",
            "_model_module_version": "1.5.0",
            "_model_name": "HBoxModel",
            "_view_count": null,
            "_view_module": "@jupyter-widgets/controls",
            "_view_module_version": "1.5.0",
            "_view_name": "HBoxView",
            "box_style": "",
            "children": [
              "IPY_MODEL_82cbeac7cff24e8091e64f88f5ee514b",
              "IPY_MODEL_932d5d2f03474ed8bc8ebbed323937f3",
              "IPY_MODEL_0aa5eb02740245fca2c37472fc1f472f"
            ],
            "layout": "IPY_MODEL_a40652205f084d079fd22562dee7562a"
          }
        },
        "82cbeac7cff24e8091e64f88f5ee514b": {
          "model_module": "@jupyter-widgets/controls",
          "model_name": "HTMLModel",
          "model_module_version": "1.5.0",
          "state": {
            "_dom_classes": [],
            "_model_module": "@jupyter-widgets/controls",
            "_model_module_version": "1.5.0",
            "_model_name": "HTMLModel",
            "_view_count": null,
            "_view_module": "@jupyter-widgets/controls",
            "_view_module_version": "1.5.0",
            "_view_name": "HTMLView",
            "description": "",
            "description_tooltip": null,
            "layout": "IPY_MODEL_7b5e50f8973149c197b135027890167a",
            "placeholder": "​",
            "style": "IPY_MODEL_c1f90958487e48fbb545788d765e7c53",
            "value": "tokenizer_config.json: 100%"
          }
        },
        "932d5d2f03474ed8bc8ebbed323937f3": {
          "model_module": "@jupyter-widgets/controls",
          "model_name": "FloatProgressModel",
          "model_module_version": "1.5.0",
          "state": {
            "_dom_classes": [],
            "_model_module": "@jupyter-widgets/controls",
            "_model_module_version": "1.5.0",
            "_model_name": "FloatProgressModel",
            "_view_count": null,
            "_view_module": "@jupyter-widgets/controls",
            "_view_module_version": "1.5.0",
            "_view_name": "ProgressView",
            "bar_style": "success",
            "description": "",
            "description_tooltip": null,
            "layout": "IPY_MODEL_f1eb354725964fccbbb833c9758cb0a7",
            "max": 60,
            "min": 0,
            "orientation": "horizontal",
            "style": "IPY_MODEL_835c5e2554ed4161a247894596d35e65",
            "value": 60
          }
        },
        "0aa5eb02740245fca2c37472fc1f472f": {
          "model_module": "@jupyter-widgets/controls",
          "model_name": "HTMLModel",
          "model_module_version": "1.5.0",
          "state": {
            "_dom_classes": [],
            "_model_module": "@jupyter-widgets/controls",
            "_model_module_version": "1.5.0",
            "_model_name": "HTMLModel",
            "_view_count": null,
            "_view_module": "@jupyter-widgets/controls",
            "_view_module_version": "1.5.0",
            "_view_name": "HTMLView",
            "description": "",
            "description_tooltip": null,
            "layout": "IPY_MODEL_0def60becda14b0eb468899bc98ddb22",
            "placeholder": "​",
            "style": "IPY_MODEL_da44dcd2fad94fdd92c788aff342bc87",
            "value": " 60.0/60.0 [00:00&lt;00:00, 5.13kB/s]"
          }
        },
        "a40652205f084d079fd22562dee7562a": {
          "model_module": "@jupyter-widgets/base",
          "model_name": "LayoutModel",
          "model_module_version": "1.2.0",
          "state": {
            "_model_module": "@jupyter-widgets/base",
            "_model_module_version": "1.2.0",
            "_model_name": "LayoutModel",
            "_view_count": null,
            "_view_module": "@jupyter-widgets/base",
            "_view_module_version": "1.2.0",
            "_view_name": "LayoutView",
            "align_content": null,
            "align_items": null,
            "align_self": null,
            "border": null,
            "bottom": null,
            "display": null,
            "flex": null,
            "flex_flow": null,
            "grid_area": null,
            "grid_auto_columns": null,
            "grid_auto_flow": null,
            "grid_auto_rows": null,
            "grid_column": null,
            "grid_gap": null,
            "grid_row": null,
            "grid_template_areas": null,
            "grid_template_columns": null,
            "grid_template_rows": null,
            "height": null,
            "justify_content": null,
            "justify_items": null,
            "left": null,
            "margin": null,
            "max_height": null,
            "max_width": null,
            "min_height": null,
            "min_width": null,
            "object_fit": null,
            "object_position": null,
            "order": null,
            "overflow": null,
            "overflow_x": null,
            "overflow_y": null,
            "padding": null,
            "right": null,
            "top": null,
            "visibility": null,
            "width": null
          }
        },
        "7b5e50f8973149c197b135027890167a": {
          "model_module": "@jupyter-widgets/base",
          "model_name": "LayoutModel",
          "model_module_version": "1.2.0",
          "state": {
            "_model_module": "@jupyter-widgets/base",
            "_model_module_version": "1.2.0",
            "_model_name": "LayoutModel",
            "_view_count": null,
            "_view_module": "@jupyter-widgets/base",
            "_view_module_version": "1.2.0",
            "_view_name": "LayoutView",
            "align_content": null,
            "align_items": null,
            "align_self": null,
            "border": null,
            "bottom": null,
            "display": null,
            "flex": null,
            "flex_flow": null,
            "grid_area": null,
            "grid_auto_columns": null,
            "grid_auto_flow": null,
            "grid_auto_rows": null,
            "grid_column": null,
            "grid_gap": null,
            "grid_row": null,
            "grid_template_areas": null,
            "grid_template_columns": null,
            "grid_template_rows": null,
            "height": null,
            "justify_content": null,
            "justify_items": null,
            "left": null,
            "margin": null,
            "max_height": null,
            "max_width": null,
            "min_height": null,
            "min_width": null,
            "object_fit": null,
            "object_position": null,
            "order": null,
            "overflow": null,
            "overflow_x": null,
            "overflow_y": null,
            "padding": null,
            "right": null,
            "top": null,
            "visibility": null,
            "width": null
          }
        },
        "c1f90958487e48fbb545788d765e7c53": {
          "model_module": "@jupyter-widgets/controls",
          "model_name": "DescriptionStyleModel",
          "model_module_version": "1.5.0",
          "state": {
            "_model_module": "@jupyter-widgets/controls",
            "_model_module_version": "1.5.0",
            "_model_name": "DescriptionStyleModel",
            "_view_count": null,
            "_view_module": "@jupyter-widgets/base",
            "_view_module_version": "1.2.0",
            "_view_name": "StyleView",
            "description_width": ""
          }
        },
        "f1eb354725964fccbbb833c9758cb0a7": {
          "model_module": "@jupyter-widgets/base",
          "model_name": "LayoutModel",
          "model_module_version": "1.2.0",
          "state": {
            "_model_module": "@jupyter-widgets/base",
            "_model_module_version": "1.2.0",
            "_model_name": "LayoutModel",
            "_view_count": null,
            "_view_module": "@jupyter-widgets/base",
            "_view_module_version": "1.2.0",
            "_view_name": "LayoutView",
            "align_content": null,
            "align_items": null,
            "align_self": null,
            "border": null,
            "bottom": null,
            "display": null,
            "flex": null,
            "flex_flow": null,
            "grid_area": null,
            "grid_auto_columns": null,
            "grid_auto_flow": null,
            "grid_auto_rows": null,
            "grid_column": null,
            "grid_gap": null,
            "grid_row": null,
            "grid_template_areas": null,
            "grid_template_columns": null,
            "grid_template_rows": null,
            "height": null,
            "justify_content": null,
            "justify_items": null,
            "left": null,
            "margin": null,
            "max_height": null,
            "max_width": null,
            "min_height": null,
            "min_width": null,
            "object_fit": null,
            "object_position": null,
            "order": null,
            "overflow": null,
            "overflow_x": null,
            "overflow_y": null,
            "padding": null,
            "right": null,
            "top": null,
            "visibility": null,
            "width": null
          }
        },
        "835c5e2554ed4161a247894596d35e65": {
          "model_module": "@jupyter-widgets/controls",
          "model_name": "ProgressStyleModel",
          "model_module_version": "1.5.0",
          "state": {
            "_model_module": "@jupyter-widgets/controls",
            "_model_module_version": "1.5.0",
            "_model_name": "ProgressStyleModel",
            "_view_count": null,
            "_view_module": "@jupyter-widgets/base",
            "_view_module_version": "1.2.0",
            "_view_name": "StyleView",
            "bar_color": null,
            "description_width": ""
          }
        },
        "0def60becda14b0eb468899bc98ddb22": {
          "model_module": "@jupyter-widgets/base",
          "model_name": "LayoutModel",
          "model_module_version": "1.2.0",
          "state": {
            "_model_module": "@jupyter-widgets/base",
            "_model_module_version": "1.2.0",
            "_model_name": "LayoutModel",
            "_view_count": null,
            "_view_module": "@jupyter-widgets/base",
            "_view_module_version": "1.2.0",
            "_view_name": "LayoutView",
            "align_content": null,
            "align_items": null,
            "align_self": null,
            "border": null,
            "bottom": null,
            "display": null,
            "flex": null,
            "flex_flow": null,
            "grid_area": null,
            "grid_auto_columns": null,
            "grid_auto_flow": null,
            "grid_auto_rows": null,
            "grid_column": null,
            "grid_gap": null,
            "grid_row": null,
            "grid_template_areas": null,
            "grid_template_columns": null,
            "grid_template_rows": null,
            "height": null,
            "justify_content": null,
            "justify_items": null,
            "left": null,
            "margin": null,
            "max_height": null,
            "max_width": null,
            "min_height": null,
            "min_width": null,
            "object_fit": null,
            "object_position": null,
            "order": null,
            "overflow": null,
            "overflow_x": null,
            "overflow_y": null,
            "padding": null,
            "right": null,
            "top": null,
            "visibility": null,
            "width": null
          }
        },
        "da44dcd2fad94fdd92c788aff342bc87": {
          "model_module": "@jupyter-widgets/controls",
          "model_name": "DescriptionStyleModel",
          "model_module_version": "1.5.0",
          "state": {
            "_model_module": "@jupyter-widgets/controls",
            "_model_module_version": "1.5.0",
            "_model_name": "DescriptionStyleModel",
            "_view_count": null,
            "_view_module": "@jupyter-widgets/base",
            "_view_module_version": "1.2.0",
            "_view_name": "StyleView",
            "description_width": ""
          }
        },
        "40be1d8b3fa74f9195d48a9450249daf": {
          "model_module": "@jupyter-widgets/controls",
          "model_name": "HBoxModel",
          "model_module_version": "1.5.0",
          "state": {
            "_dom_classes": [],
            "_model_module": "@jupyter-widgets/controls",
            "_model_module_version": "1.5.0",
            "_model_name": "HBoxModel",
            "_view_count": null,
            "_view_module": "@jupyter-widgets/controls",
            "_view_module_version": "1.5.0",
            "_view_name": "HBoxView",
            "box_style": "",
            "children": [
              "IPY_MODEL_c4d6d18fdd2a4f389dcabac214507530",
              "IPY_MODEL_00c7bd59f684410bb5b929ca719a911d",
              "IPY_MODEL_7d95c2cd50cb4e8f9299a23ea61d1cc9"
            ],
            "layout": "IPY_MODEL_7e76b750908c4334b15e5d977b912753"
          }
        },
        "c4d6d18fdd2a4f389dcabac214507530": {
          "model_module": "@jupyter-widgets/controls",
          "model_name": "HTMLModel",
          "model_module_version": "1.5.0",
          "state": {
            "_dom_classes": [],
            "_model_module": "@jupyter-widgets/controls",
            "_model_module_version": "1.5.0",
            "_model_name": "HTMLModel",
            "_view_count": null,
            "_view_module": "@jupyter-widgets/controls",
            "_view_module_version": "1.5.0",
            "_view_name": "HTMLView",
            "description": "",
            "description_tooltip": null,
            "layout": "IPY_MODEL_941e26cf66504f32aa3b263e5d23763c",
            "placeholder": "​",
            "style": "IPY_MODEL_e7a9e937b1f64604bdec5b6820e92e99",
            "value": "vocab.txt: "
          }
        },
        "00c7bd59f684410bb5b929ca719a911d": {
          "model_module": "@jupyter-widgets/controls",
          "model_name": "FloatProgressModel",
          "model_module_version": "1.5.0",
          "state": {
            "_dom_classes": [],
            "_model_module": "@jupyter-widgets/controls",
            "_model_module_version": "1.5.0",
            "_model_name": "FloatProgressModel",
            "_view_count": null,
            "_view_module": "@jupyter-widgets/controls",
            "_view_module_version": "1.5.0",
            "_view_name": "ProgressView",
            "bar_style": "success",
            "description": "",
            "description_tooltip": null,
            "layout": "IPY_MODEL_5626143e3ff64e239eea21a2e4f3cf06",
            "max": 1,
            "min": 0,
            "orientation": "horizontal",
            "style": "IPY_MODEL_87ca08a8ffb44354955954987f903ae7",
            "value": 1
          }
        },
        "7d95c2cd50cb4e8f9299a23ea61d1cc9": {
          "model_module": "@jupyter-widgets/controls",
          "model_name": "HTMLModel",
          "model_module_version": "1.5.0",
          "state": {
            "_dom_classes": [],
            "_model_module": "@jupyter-widgets/controls",
            "_model_module_version": "1.5.0",
            "_model_name": "HTMLModel",
            "_view_count": null,
            "_view_module": "@jupyter-widgets/controls",
            "_view_module_version": "1.5.0",
            "_view_name": "HTMLView",
            "description": "",
            "description_tooltip": null,
            "layout": "IPY_MODEL_7a7f9baf5c37422fad30015e85bbd0fb",
            "placeholder": "​",
            "style": "IPY_MODEL_edf6f24818064011a55663a97160c085",
            "value": " 213k/? [00:00&lt;00:00, 9.13MB/s]"
          }
        },
        "7e76b750908c4334b15e5d977b912753": {
          "model_module": "@jupyter-widgets/base",
          "model_name": "LayoutModel",
          "model_module_version": "1.2.0",
          "state": {
            "_model_module": "@jupyter-widgets/base",
            "_model_module_version": "1.2.0",
            "_model_name": "LayoutModel",
            "_view_count": null,
            "_view_module": "@jupyter-widgets/base",
            "_view_module_version": "1.2.0",
            "_view_name": "LayoutView",
            "align_content": null,
            "align_items": null,
            "align_self": null,
            "border": null,
            "bottom": null,
            "display": null,
            "flex": null,
            "flex_flow": null,
            "grid_area": null,
            "grid_auto_columns": null,
            "grid_auto_flow": null,
            "grid_auto_rows": null,
            "grid_column": null,
            "grid_gap": null,
            "grid_row": null,
            "grid_template_areas": null,
            "grid_template_columns": null,
            "grid_template_rows": null,
            "height": null,
            "justify_content": null,
            "justify_items": null,
            "left": null,
            "margin": null,
            "max_height": null,
            "max_width": null,
            "min_height": null,
            "min_width": null,
            "object_fit": null,
            "object_position": null,
            "order": null,
            "overflow": null,
            "overflow_x": null,
            "overflow_y": null,
            "padding": null,
            "right": null,
            "top": null,
            "visibility": null,
            "width": null
          }
        },
        "941e26cf66504f32aa3b263e5d23763c": {
          "model_module": "@jupyter-widgets/base",
          "model_name": "LayoutModel",
          "model_module_version": "1.2.0",
          "state": {
            "_model_module": "@jupyter-widgets/base",
            "_model_module_version": "1.2.0",
            "_model_name": "LayoutModel",
            "_view_count": null,
            "_view_module": "@jupyter-widgets/base",
            "_view_module_version": "1.2.0",
            "_view_name": "LayoutView",
            "align_content": null,
            "align_items": null,
            "align_self": null,
            "border": null,
            "bottom": null,
            "display": null,
            "flex": null,
            "flex_flow": null,
            "grid_area": null,
            "grid_auto_columns": null,
            "grid_auto_flow": null,
            "grid_auto_rows": null,
            "grid_column": null,
            "grid_gap": null,
            "grid_row": null,
            "grid_template_areas": null,
            "grid_template_columns": null,
            "grid_template_rows": null,
            "height": null,
            "justify_content": null,
            "justify_items": null,
            "left": null,
            "margin": null,
            "max_height": null,
            "max_width": null,
            "min_height": null,
            "min_width": null,
            "object_fit": null,
            "object_position": null,
            "order": null,
            "overflow": null,
            "overflow_x": null,
            "overflow_y": null,
            "padding": null,
            "right": null,
            "top": null,
            "visibility": null,
            "width": null
          }
        },
        "e7a9e937b1f64604bdec5b6820e92e99": {
          "model_module": "@jupyter-widgets/controls",
          "model_name": "DescriptionStyleModel",
          "model_module_version": "1.5.0",
          "state": {
            "_model_module": "@jupyter-widgets/controls",
            "_model_module_version": "1.5.0",
            "_model_name": "DescriptionStyleModel",
            "_view_count": null,
            "_view_module": "@jupyter-widgets/base",
            "_view_module_version": "1.2.0",
            "_view_name": "StyleView",
            "description_width": ""
          }
        },
        "5626143e3ff64e239eea21a2e4f3cf06": {
          "model_module": "@jupyter-widgets/base",
          "model_name": "LayoutModel",
          "model_module_version": "1.2.0",
          "state": {
            "_model_module": "@jupyter-widgets/base",
            "_model_module_version": "1.2.0",
            "_model_name": "LayoutModel",
            "_view_count": null,
            "_view_module": "@jupyter-widgets/base",
            "_view_module_version": "1.2.0",
            "_view_name": "LayoutView",
            "align_content": null,
            "align_items": null,
            "align_self": null,
            "border": null,
            "bottom": null,
            "display": null,
            "flex": null,
            "flex_flow": null,
            "grid_area": null,
            "grid_auto_columns": null,
            "grid_auto_flow": null,
            "grid_auto_rows": null,
            "grid_column": null,
            "grid_gap": null,
            "grid_row": null,
            "grid_template_areas": null,
            "grid_template_columns": null,
            "grid_template_rows": null,
            "height": null,
            "justify_content": null,
            "justify_items": null,
            "left": null,
            "margin": null,
            "max_height": null,
            "max_width": null,
            "min_height": null,
            "min_width": null,
            "object_fit": null,
            "object_position": null,
            "order": null,
            "overflow": null,
            "overflow_x": null,
            "overflow_y": null,
            "padding": null,
            "right": null,
            "top": null,
            "visibility": null,
            "width": "20px"
          }
        },
        "87ca08a8ffb44354955954987f903ae7": {
          "model_module": "@jupyter-widgets/controls",
          "model_name": "ProgressStyleModel",
          "model_module_version": "1.5.0",
          "state": {
            "_model_module": "@jupyter-widgets/controls",
            "_model_module_version": "1.5.0",
            "_model_name": "ProgressStyleModel",
            "_view_count": null,
            "_view_module": "@jupyter-widgets/base",
            "_view_module_version": "1.2.0",
            "_view_name": "StyleView",
            "bar_color": null,
            "description_width": ""
          }
        },
        "7a7f9baf5c37422fad30015e85bbd0fb": {
          "model_module": "@jupyter-widgets/base",
          "model_name": "LayoutModel",
          "model_module_version": "1.2.0",
          "state": {
            "_model_module": "@jupyter-widgets/base",
            "_model_module_version": "1.2.0",
            "_model_name": "LayoutModel",
            "_view_count": null,
            "_view_module": "@jupyter-widgets/base",
            "_view_module_version": "1.2.0",
            "_view_name": "LayoutView",
            "align_content": null,
            "align_items": null,
            "align_self": null,
            "border": null,
            "bottom": null,
            "display": null,
            "flex": null,
            "flex_flow": null,
            "grid_area": null,
            "grid_auto_columns": null,
            "grid_auto_flow": null,
            "grid_auto_rows": null,
            "grid_column": null,
            "grid_gap": null,
            "grid_row": null,
            "grid_template_areas": null,
            "grid_template_columns": null,
            "grid_template_rows": null,
            "height": null,
            "justify_content": null,
            "justify_items": null,
            "left": null,
            "margin": null,
            "max_height": null,
            "max_width": null,
            "min_height": null,
            "min_width": null,
            "object_fit": null,
            "object_position": null,
            "order": null,
            "overflow": null,
            "overflow_x": null,
            "overflow_y": null,
            "padding": null,
            "right": null,
            "top": null,
            "visibility": null,
            "width": null
          }
        },
        "edf6f24818064011a55663a97160c085": {
          "model_module": "@jupyter-widgets/controls",
          "model_name": "DescriptionStyleModel",
          "model_module_version": "1.5.0",
          "state": {
            "_model_module": "@jupyter-widgets/controls",
            "_model_module_version": "1.5.0",
            "_model_name": "DescriptionStyleModel",
            "_view_count": null,
            "_view_module": "@jupyter-widgets/base",
            "_view_module_version": "1.2.0",
            "_view_name": "StyleView",
            "description_width": ""
          }
        },
        "c497df2ceabb4820a2aa2ec0c169b5e2": {
          "model_module": "@jupyter-widgets/controls",
          "model_name": "HBoxModel",
          "model_module_version": "1.5.0",
          "state": {
            "_dom_classes": [],
            "_model_module": "@jupyter-widgets/controls",
            "_model_module_version": "1.5.0",
            "_model_name": "HBoxModel",
            "_view_count": null,
            "_view_module": "@jupyter-widgets/controls",
            "_view_module_version": "1.5.0",
            "_view_name": "HBoxView",
            "box_style": "",
            "children": [
              "IPY_MODEL_3deb23a292174727baa93659586927b9",
              "IPY_MODEL_d728356cc57c4713af49de382abd1cab",
              "IPY_MODEL_a800af7c3a9446e8a40c064b69e091bd"
            ],
            "layout": "IPY_MODEL_6b6e7a0957544ee09e53bd7a47df2639"
          }
        },
        "3deb23a292174727baa93659586927b9": {
          "model_module": "@jupyter-widgets/controls",
          "model_name": "HTMLModel",
          "model_module_version": "1.5.0",
          "state": {
            "_dom_classes": [],
            "_model_module": "@jupyter-widgets/controls",
            "_model_module_version": "1.5.0",
            "_model_name": "HTMLModel",
            "_view_count": null,
            "_view_module": "@jupyter-widgets/controls",
            "_view_module_version": "1.5.0",
            "_view_name": "HTMLView",
            "description": "",
            "description_tooltip": null,
            "layout": "IPY_MODEL_b7baf4caf792414b9d3a54591c3115a6",
            "placeholder": "​",
            "style": "IPY_MODEL_340a23fb707d45b6ae9facde81bfd84d",
            "value": "config.json: "
          }
        },
        "d728356cc57c4713af49de382abd1cab": {
          "model_module": "@jupyter-widgets/controls",
          "model_name": "FloatProgressModel",
          "model_module_version": "1.5.0",
          "state": {
            "_dom_classes": [],
            "_model_module": "@jupyter-widgets/controls",
            "_model_module_version": "1.5.0",
            "_model_name": "FloatProgressModel",
            "_view_count": null,
            "_view_module": "@jupyter-widgets/controls",
            "_view_module_version": "1.5.0",
            "_view_name": "ProgressView",
            "bar_style": "success",
            "description": "",
            "description_tooltip": null,
            "layout": "IPY_MODEL_95131bba20354d34b0a77e7f8fe886fd",
            "max": 1,
            "min": 0,
            "orientation": "horizontal",
            "style": "IPY_MODEL_b43716a605d841d3bef29494f2033aa6",
            "value": 1
          }
        },
        "a800af7c3a9446e8a40c064b69e091bd": {
          "model_module": "@jupyter-widgets/controls",
          "model_name": "HTMLModel",
          "model_module_version": "1.5.0",
          "state": {
            "_dom_classes": [],
            "_model_module": "@jupyter-widgets/controls",
            "_model_module_version": "1.5.0",
            "_model_name": "HTMLModel",
            "_view_count": null,
            "_view_module": "@jupyter-widgets/controls",
            "_view_module_version": "1.5.0",
            "_view_name": "HTMLView",
            "description": "",
            "description_tooltip": null,
            "layout": "IPY_MODEL_2960424aadc54a8b8f2636c5be5aa75a",
            "placeholder": "​",
            "style": "IPY_MODEL_20de34c8ccab41999c03949d7b8fb648",
            "value": " 1.58k/? [00:00&lt;00:00, 149kB/s]"
          }
        },
        "6b6e7a0957544ee09e53bd7a47df2639": {
          "model_module": "@jupyter-widgets/base",
          "model_name": "LayoutModel",
          "model_module_version": "1.2.0",
          "state": {
            "_model_module": "@jupyter-widgets/base",
            "_model_module_version": "1.2.0",
            "_model_name": "LayoutModel",
            "_view_count": null,
            "_view_module": "@jupyter-widgets/base",
            "_view_module_version": "1.2.0",
            "_view_name": "LayoutView",
            "align_content": null,
            "align_items": null,
            "align_self": null,
            "border": null,
            "bottom": null,
            "display": null,
            "flex": null,
            "flex_flow": null,
            "grid_area": null,
            "grid_auto_columns": null,
            "grid_auto_flow": null,
            "grid_auto_rows": null,
            "grid_column": null,
            "grid_gap": null,
            "grid_row": null,
            "grid_template_areas": null,
            "grid_template_columns": null,
            "grid_template_rows": null,
            "height": null,
            "justify_content": null,
            "justify_items": null,
            "left": null,
            "margin": null,
            "max_height": null,
            "max_width": null,
            "min_height": null,
            "min_width": null,
            "object_fit": null,
            "object_position": null,
            "order": null,
            "overflow": null,
            "overflow_x": null,
            "overflow_y": null,
            "padding": null,
            "right": null,
            "top": null,
            "visibility": null,
            "width": null
          }
        },
        "b7baf4caf792414b9d3a54591c3115a6": {
          "model_module": "@jupyter-widgets/base",
          "model_name": "LayoutModel",
          "model_module_version": "1.2.0",
          "state": {
            "_model_module": "@jupyter-widgets/base",
            "_model_module_version": "1.2.0",
            "_model_name": "LayoutModel",
            "_view_count": null,
            "_view_module": "@jupyter-widgets/base",
            "_view_module_version": "1.2.0",
            "_view_name": "LayoutView",
            "align_content": null,
            "align_items": null,
            "align_self": null,
            "border": null,
            "bottom": null,
            "display": null,
            "flex": null,
            "flex_flow": null,
            "grid_area": null,
            "grid_auto_columns": null,
            "grid_auto_flow": null,
            "grid_auto_rows": null,
            "grid_column": null,
            "grid_gap": null,
            "grid_row": null,
            "grid_template_areas": null,
            "grid_template_columns": null,
            "grid_template_rows": null,
            "height": null,
            "justify_content": null,
            "justify_items": null,
            "left": null,
            "margin": null,
            "max_height": null,
            "max_width": null,
            "min_height": null,
            "min_width": null,
            "object_fit": null,
            "object_position": null,
            "order": null,
            "overflow": null,
            "overflow_x": null,
            "overflow_y": null,
            "padding": null,
            "right": null,
            "top": null,
            "visibility": null,
            "width": null
          }
        },
        "340a23fb707d45b6ae9facde81bfd84d": {
          "model_module": "@jupyter-widgets/controls",
          "model_name": "DescriptionStyleModel",
          "model_module_version": "1.5.0",
          "state": {
            "_model_module": "@jupyter-widgets/controls",
            "_model_module_version": "1.5.0",
            "_model_name": "DescriptionStyleModel",
            "_view_count": null,
            "_view_module": "@jupyter-widgets/base",
            "_view_module_version": "1.2.0",
            "_view_name": "StyleView",
            "description_width": ""
          }
        },
        "95131bba20354d34b0a77e7f8fe886fd": {
          "model_module": "@jupyter-widgets/base",
          "model_name": "LayoutModel",
          "model_module_version": "1.2.0",
          "state": {
            "_model_module": "@jupyter-widgets/base",
            "_model_module_version": "1.2.0",
            "_model_name": "LayoutModel",
            "_view_count": null,
            "_view_module": "@jupyter-widgets/base",
            "_view_module_version": "1.2.0",
            "_view_name": "LayoutView",
            "align_content": null,
            "align_items": null,
            "align_self": null,
            "border": null,
            "bottom": null,
            "display": null,
            "flex": null,
            "flex_flow": null,
            "grid_area": null,
            "grid_auto_columns": null,
            "grid_auto_flow": null,
            "grid_auto_rows": null,
            "grid_column": null,
            "grid_gap": null,
            "grid_row": null,
            "grid_template_areas": null,
            "grid_template_columns": null,
            "grid_template_rows": null,
            "height": null,
            "justify_content": null,
            "justify_items": null,
            "left": null,
            "margin": null,
            "max_height": null,
            "max_width": null,
            "min_height": null,
            "min_width": null,
            "object_fit": null,
            "object_position": null,
            "order": null,
            "overflow": null,
            "overflow_x": null,
            "overflow_y": null,
            "padding": null,
            "right": null,
            "top": null,
            "visibility": null,
            "width": "20px"
          }
        },
        "b43716a605d841d3bef29494f2033aa6": {
          "model_module": "@jupyter-widgets/controls",
          "model_name": "ProgressStyleModel",
          "model_module_version": "1.5.0",
          "state": {
            "_model_module": "@jupyter-widgets/controls",
            "_model_module_version": "1.5.0",
            "_model_name": "ProgressStyleModel",
            "_view_count": null,
            "_view_module": "@jupyter-widgets/base",
            "_view_module_version": "1.2.0",
            "_view_name": "StyleView",
            "bar_color": null,
            "description_width": ""
          }
        },
        "2960424aadc54a8b8f2636c5be5aa75a": {
          "model_module": "@jupyter-widgets/base",
          "model_name": "LayoutModel",
          "model_module_version": "1.2.0",
          "state": {
            "_model_module": "@jupyter-widgets/base",
            "_model_module_version": "1.2.0",
            "_model_name": "LayoutModel",
            "_view_count": null,
            "_view_module": "@jupyter-widgets/base",
            "_view_module_version": "1.2.0",
            "_view_name": "LayoutView",
            "align_content": null,
            "align_items": null,
            "align_self": null,
            "border": null,
            "bottom": null,
            "display": null,
            "flex": null,
            "flex_flow": null,
            "grid_area": null,
            "grid_auto_columns": null,
            "grid_auto_flow": null,
            "grid_auto_rows": null,
            "grid_column": null,
            "grid_gap": null,
            "grid_row": null,
            "grid_template_areas": null,
            "grid_template_columns": null,
            "grid_template_rows": null,
            "height": null,
            "justify_content": null,
            "justify_items": null,
            "left": null,
            "margin": null,
            "max_height": null,
            "max_width": null,
            "min_height": null,
            "min_width": null,
            "object_fit": null,
            "object_position": null,
            "order": null,
            "overflow": null,
            "overflow_x": null,
            "overflow_y": null,
            "padding": null,
            "right": null,
            "top": null,
            "visibility": null,
            "width": null
          }
        },
        "20de34c8ccab41999c03949d7b8fb648": {
          "model_module": "@jupyter-widgets/controls",
          "model_name": "DescriptionStyleModel",
          "model_module_version": "1.5.0",
          "state": {
            "_model_module": "@jupyter-widgets/controls",
            "_model_module_version": "1.5.0",
            "_model_name": "DescriptionStyleModel",
            "_view_count": null,
            "_view_module": "@jupyter-widgets/base",
            "_view_module_version": "1.2.0",
            "_view_name": "StyleView",
            "description_width": ""
          }
        },
        "ac7bc1fe9ab044fdaa7557816d93b11a": {
          "model_module": "@jupyter-widgets/controls",
          "model_name": "HBoxModel",
          "model_module_version": "1.5.0",
          "state": {
            "_dom_classes": [],
            "_model_module": "@jupyter-widgets/controls",
            "_model_module_version": "1.5.0",
            "_model_name": "HBoxModel",
            "_view_count": null,
            "_view_module": "@jupyter-widgets/controls",
            "_view_module_version": "1.5.0",
            "_view_name": "HBoxView",
            "box_style": "",
            "children": [
              "IPY_MODEL_e35970d6ce0844ccb49b1a2373a6bc06",
              "IPY_MODEL_5377b7bb9c964ca4bcfca0b2df3b8301",
              "IPY_MODEL_2a7fd4badcba4415bbbd121c5c9848d4"
            ],
            "layout": "IPY_MODEL_85b22fa9ebaa42e59190884c9372d001"
          }
        },
        "e35970d6ce0844ccb49b1a2373a6bc06": {
          "model_module": "@jupyter-widgets/controls",
          "model_name": "HTMLModel",
          "model_module_version": "1.5.0",
          "state": {
            "_dom_classes": [],
            "_model_module": "@jupyter-widgets/controls",
            "_model_module_version": "1.5.0",
            "_model_name": "HTMLModel",
            "_view_count": null,
            "_view_module": "@jupyter-widgets/controls",
            "_view_module_version": "1.5.0",
            "_view_name": "HTMLView",
            "description": "",
            "description_tooltip": null,
            "layout": "IPY_MODEL_31488af195354519815db3981772e96c",
            "placeholder": "​",
            "style": "IPY_MODEL_dc5edf377c0a4f28b3b9f8c7f20a487a",
            "value": "model.safetensors: 100%"
          }
        },
        "5377b7bb9c964ca4bcfca0b2df3b8301": {
          "model_module": "@jupyter-widgets/controls",
          "model_name": "FloatProgressModel",
          "model_module_version": "1.5.0",
          "state": {
            "_dom_classes": [],
            "_model_module": "@jupyter-widgets/controls",
            "_model_module_version": "1.5.0",
            "_model_name": "FloatProgressModel",
            "_view_count": null,
            "_view_module": "@jupyter-widgets/controls",
            "_view_module_version": "1.5.0",
            "_view_name": "ProgressView",
            "bar_style": "success",
            "description": "",
            "description_tooltip": null,
            "layout": "IPY_MODEL_4d34650b985142aaacd48ad7c2a0b046",
            "max": 1625222120,
            "min": 0,
            "orientation": "horizontal",
            "style": "IPY_MODEL_4ebbb9b6b4ef42ef90fb643f87c8e5aa",
            "value": 1625222120
          }
        },
        "2a7fd4badcba4415bbbd121c5c9848d4": {
          "model_module": "@jupyter-widgets/controls",
          "model_name": "HTMLModel",
          "model_module_version": "1.5.0",
          "state": {
            "_dom_classes": [],
            "_model_module": "@jupyter-widgets/controls",
            "_model_module_version": "1.5.0",
            "_model_name": "HTMLModel",
            "_view_count": null,
            "_view_module": "@jupyter-widgets/controls",
            "_view_module_version": "1.5.0",
            "_view_name": "HTMLView",
            "description": "",
            "description_tooltip": null,
            "layout": "IPY_MODEL_d5e6e07d807c48beb8f73eed87257636",
            "placeholder": "​",
            "style": "IPY_MODEL_8da6f3397b66462080b2eac0e8dea99d",
            "value": " 1.63G/1.63G [00:29&lt;00:00, 127MB/s]"
          }
        },
        "85b22fa9ebaa42e59190884c9372d001": {
          "model_module": "@jupyter-widgets/base",
          "model_name": "LayoutModel",
          "model_module_version": "1.2.0",
          "state": {
            "_model_module": "@jupyter-widgets/base",
            "_model_module_version": "1.2.0",
            "_model_name": "LayoutModel",
            "_view_count": null,
            "_view_module": "@jupyter-widgets/base",
            "_view_module_version": "1.2.0",
            "_view_name": "LayoutView",
            "align_content": null,
            "align_items": null,
            "align_self": null,
            "border": null,
            "bottom": null,
            "display": null,
            "flex": null,
            "flex_flow": null,
            "grid_area": null,
            "grid_auto_columns": null,
            "grid_auto_flow": null,
            "grid_auto_rows": null,
            "grid_column": null,
            "grid_gap": null,
            "grid_row": null,
            "grid_template_areas": null,
            "grid_template_columns": null,
            "grid_template_rows": null,
            "height": null,
            "justify_content": null,
            "justify_items": null,
            "left": null,
            "margin": null,
            "max_height": null,
            "max_width": null,
            "min_height": null,
            "min_width": null,
            "object_fit": null,
            "object_position": null,
            "order": null,
            "overflow": null,
            "overflow_x": null,
            "overflow_y": null,
            "padding": null,
            "right": null,
            "top": null,
            "visibility": null,
            "width": null
          }
        },
        "31488af195354519815db3981772e96c": {
          "model_module": "@jupyter-widgets/base",
          "model_name": "LayoutModel",
          "model_module_version": "1.2.0",
          "state": {
            "_model_module": "@jupyter-widgets/base",
            "_model_module_version": "1.2.0",
            "_model_name": "LayoutModel",
            "_view_count": null,
            "_view_module": "@jupyter-widgets/base",
            "_view_module_version": "1.2.0",
            "_view_name": "LayoutView",
            "align_content": null,
            "align_items": null,
            "align_self": null,
            "border": null,
            "bottom": null,
            "display": null,
            "flex": null,
            "flex_flow": null,
            "grid_area": null,
            "grid_auto_columns": null,
            "grid_auto_flow": null,
            "grid_auto_rows": null,
            "grid_column": null,
            "grid_gap": null,
            "grid_row": null,
            "grid_template_areas": null,
            "grid_template_columns": null,
            "grid_template_rows": null,
            "height": null,
            "justify_content": null,
            "justify_items": null,
            "left": null,
            "margin": null,
            "max_height": null,
            "max_width": null,
            "min_height": null,
            "min_width": null,
            "object_fit": null,
            "object_position": null,
            "order": null,
            "overflow": null,
            "overflow_x": null,
            "overflow_y": null,
            "padding": null,
            "right": null,
            "top": null,
            "visibility": null,
            "width": null
          }
        },
        "dc5edf377c0a4f28b3b9f8c7f20a487a": {
          "model_module": "@jupyter-widgets/controls",
          "model_name": "DescriptionStyleModel",
          "model_module_version": "1.5.0",
          "state": {
            "_model_module": "@jupyter-widgets/controls",
            "_model_module_version": "1.5.0",
            "_model_name": "DescriptionStyleModel",
            "_view_count": null,
            "_view_module": "@jupyter-widgets/base",
            "_view_module_version": "1.2.0",
            "_view_name": "StyleView",
            "description_width": ""
          }
        },
        "4d34650b985142aaacd48ad7c2a0b046": {
          "model_module": "@jupyter-widgets/base",
          "model_name": "LayoutModel",
          "model_module_version": "1.2.0",
          "state": {
            "_model_module": "@jupyter-widgets/base",
            "_model_module_version": "1.2.0",
            "_model_name": "LayoutModel",
            "_view_count": null,
            "_view_module": "@jupyter-widgets/base",
            "_view_module_version": "1.2.0",
            "_view_name": "LayoutView",
            "align_content": null,
            "align_items": null,
            "align_self": null,
            "border": null,
            "bottom": null,
            "display": null,
            "flex": null,
            "flex_flow": null,
            "grid_area": null,
            "grid_auto_columns": null,
            "grid_auto_flow": null,
            "grid_auto_rows": null,
            "grid_column": null,
            "grid_gap": null,
            "grid_row": null,
            "grid_template_areas": null,
            "grid_template_columns": null,
            "grid_template_rows": null,
            "height": null,
            "justify_content": null,
            "justify_items": null,
            "left": null,
            "margin": null,
            "max_height": null,
            "max_width": null,
            "min_height": null,
            "min_width": null,
            "object_fit": null,
            "object_position": null,
            "order": null,
            "overflow": null,
            "overflow_x": null,
            "overflow_y": null,
            "padding": null,
            "right": null,
            "top": null,
            "visibility": null,
            "width": null
          }
        },
        "4ebbb9b6b4ef42ef90fb643f87c8e5aa": {
          "model_module": "@jupyter-widgets/controls",
          "model_name": "ProgressStyleModel",
          "model_module_version": "1.5.0",
          "state": {
            "_model_module": "@jupyter-widgets/controls",
            "_model_module_version": "1.5.0",
            "_model_name": "ProgressStyleModel",
            "_view_count": null,
            "_view_module": "@jupyter-widgets/base",
            "_view_module_version": "1.2.0",
            "_view_name": "StyleView",
            "bar_color": null,
            "description_width": ""
          }
        },
        "d5e6e07d807c48beb8f73eed87257636": {
          "model_module": "@jupyter-widgets/base",
          "model_name": "LayoutModel",
          "model_module_version": "1.2.0",
          "state": {
            "_model_module": "@jupyter-widgets/base",
            "_model_module_version": "1.2.0",
            "_model_name": "LayoutModel",
            "_view_count": null,
            "_view_module": "@jupyter-widgets/base",
            "_view_module_version": "1.2.0",
            "_view_name": "LayoutView",
            "align_content": null,
            "align_items": null,
            "align_self": null,
            "border": null,
            "bottom": null,
            "display": null,
            "flex": null,
            "flex_flow": null,
            "grid_area": null,
            "grid_auto_columns": null,
            "grid_auto_flow": null,
            "grid_auto_rows": null,
            "grid_column": null,
            "grid_gap": null,
            "grid_row": null,
            "grid_template_areas": null,
            "grid_template_columns": null,
            "grid_template_rows": null,
            "height": null,
            "justify_content": null,
            "justify_items": null,
            "left": null,
            "margin": null,
            "max_height": null,
            "max_width": null,
            "min_height": null,
            "min_width": null,
            "object_fit": null,
            "object_position": null,
            "order": null,
            "overflow": null,
            "overflow_x": null,
            "overflow_y": null,
            "padding": null,
            "right": null,
            "top": null,
            "visibility": null,
            "width": null
          }
        },
        "8da6f3397b66462080b2eac0e8dea99d": {
          "model_module": "@jupyter-widgets/controls",
          "model_name": "DescriptionStyleModel",
          "model_module_version": "1.5.0",
          "state": {
            "_model_module": "@jupyter-widgets/controls",
            "_model_module_version": "1.5.0",
            "_model_name": "DescriptionStyleModel",
            "_view_count": null,
            "_view_module": "@jupyter-widgets/base",
            "_view_module_version": "1.2.0",
            "_view_name": "StyleView",
            "description_width": ""
          }
        },
        "cfa43bc93ed54cc8ba0ea14fa7e45a7a": {
          "model_module": "@jupyter-widgets/controls",
          "model_name": "HBoxModel",
          "model_module_version": "1.5.0",
          "state": {
            "_dom_classes": [],
            "_model_module": "@jupyter-widgets/controls",
            "_model_module_version": "1.5.0",
            "_model_name": "HBoxModel",
            "_view_count": null,
            "_view_module": "@jupyter-widgets/controls",
            "_view_module_version": "1.5.0",
            "_view_name": "HBoxView",
            "box_style": "",
            "children": [
              "IPY_MODEL_50e7d8bb552e42af9fba3681e8c3e7bd",
              "IPY_MODEL_f9988d5a19de4bf6bb9e3eb7ae8c4e21",
              "IPY_MODEL_67ac67105e0642c397741e0c7d3cdacf"
            ],
            "layout": "IPY_MODEL_74af9d81e5584daab63f6a6131be4635"
          }
        },
        "50e7d8bb552e42af9fba3681e8c3e7bd": {
          "model_module": "@jupyter-widgets/controls",
          "model_name": "HTMLModel",
          "model_module_version": "1.5.0",
          "state": {
            "_dom_classes": [],
            "_model_module": "@jupyter-widgets/controls",
            "_model_module_version": "1.5.0",
            "_model_name": "HTMLModel",
            "_view_count": null,
            "_view_module": "@jupyter-widgets/controls",
            "_view_module_version": "1.5.0",
            "_view_name": "HTMLView",
            "description": "",
            "description_tooltip": null,
            "layout": "IPY_MODEL_fd730b5d1adf4c20a7e384173bd1dbc0",
            "placeholder": "​",
            "style": "IPY_MODEL_dd076713978e4e9aa6e78c5c2dd7ebe0",
            "value": "generation_config.json: 100%"
          }
        },
        "f9988d5a19de4bf6bb9e3eb7ae8c4e21": {
          "model_module": "@jupyter-widgets/controls",
          "model_name": "FloatProgressModel",
          "model_module_version": "1.5.0",
          "state": {
            "_dom_classes": [],
            "_model_module": "@jupyter-widgets/controls",
            "_model_module_version": "1.5.0",
            "_model_name": "FloatProgressModel",
            "_view_count": null,
            "_view_module": "@jupyter-widgets/controls",
            "_view_module_version": "1.5.0",
            "_view_name": "ProgressView",
            "bar_style": "success",
            "description": "",
            "description_tooltip": null,
            "layout": "IPY_MODEL_4bec779ae9e34ee0b269f436ebda1086",
            "max": 363,
            "min": 0,
            "orientation": "horizontal",
            "style": "IPY_MODEL_359116f9f3884f678d04c94f9f90eefd",
            "value": 363
          }
        },
        "67ac67105e0642c397741e0c7d3cdacf": {
          "model_module": "@jupyter-widgets/controls",
          "model_name": "HTMLModel",
          "model_module_version": "1.5.0",
          "state": {
            "_dom_classes": [],
            "_model_module": "@jupyter-widgets/controls",
            "_model_module_version": "1.5.0",
            "_model_name": "HTMLModel",
            "_view_count": null,
            "_view_module": "@jupyter-widgets/controls",
            "_view_module_version": "1.5.0",
            "_view_name": "HTMLView",
            "description": "",
            "description_tooltip": null,
            "layout": "IPY_MODEL_0aa88c4327784eca8bb11142978bce46",
            "placeholder": "​",
            "style": "IPY_MODEL_36b881f57aae40aa84008f23b8ac50b4",
            "value": " 363/363 [00:00&lt;00:00, 29.8kB/s]"
          }
        },
        "74af9d81e5584daab63f6a6131be4635": {
          "model_module": "@jupyter-widgets/base",
          "model_name": "LayoutModel",
          "model_module_version": "1.2.0",
          "state": {
            "_model_module": "@jupyter-widgets/base",
            "_model_module_version": "1.2.0",
            "_model_name": "LayoutModel",
            "_view_count": null,
            "_view_module": "@jupyter-widgets/base",
            "_view_module_version": "1.2.0",
            "_view_name": "LayoutView",
            "align_content": null,
            "align_items": null,
            "align_self": null,
            "border": null,
            "bottom": null,
            "display": null,
            "flex": null,
            "flex_flow": null,
            "grid_area": null,
            "grid_auto_columns": null,
            "grid_auto_flow": null,
            "grid_auto_rows": null,
            "grid_column": null,
            "grid_gap": null,
            "grid_row": null,
            "grid_template_areas": null,
            "grid_template_columns": null,
            "grid_template_rows": null,
            "height": null,
            "justify_content": null,
            "justify_items": null,
            "left": null,
            "margin": null,
            "max_height": null,
            "max_width": null,
            "min_height": null,
            "min_width": null,
            "object_fit": null,
            "object_position": null,
            "order": null,
            "overflow": null,
            "overflow_x": null,
            "overflow_y": null,
            "padding": null,
            "right": null,
            "top": null,
            "visibility": null,
            "width": null
          }
        },
        "fd730b5d1adf4c20a7e384173bd1dbc0": {
          "model_module": "@jupyter-widgets/base",
          "model_name": "LayoutModel",
          "model_module_version": "1.2.0",
          "state": {
            "_model_module": "@jupyter-widgets/base",
            "_model_module_version": "1.2.0",
            "_model_name": "LayoutModel",
            "_view_count": null,
            "_view_module": "@jupyter-widgets/base",
            "_view_module_version": "1.2.0",
            "_view_name": "LayoutView",
            "align_content": null,
            "align_items": null,
            "align_self": null,
            "border": null,
            "bottom": null,
            "display": null,
            "flex": null,
            "flex_flow": null,
            "grid_area": null,
            "grid_auto_columns": null,
            "grid_auto_flow": null,
            "grid_auto_rows": null,
            "grid_column": null,
            "grid_gap": null,
            "grid_row": null,
            "grid_template_areas": null,
            "grid_template_columns": null,
            "grid_template_rows": null,
            "height": null,
            "justify_content": null,
            "justify_items": null,
            "left": null,
            "margin": null,
            "max_height": null,
            "max_width": null,
            "min_height": null,
            "min_width": null,
            "object_fit": null,
            "object_position": null,
            "order": null,
            "overflow": null,
            "overflow_x": null,
            "overflow_y": null,
            "padding": null,
            "right": null,
            "top": null,
            "visibility": null,
            "width": null
          }
        },
        "dd076713978e4e9aa6e78c5c2dd7ebe0": {
          "model_module": "@jupyter-widgets/controls",
          "model_name": "DescriptionStyleModel",
          "model_module_version": "1.5.0",
          "state": {
            "_model_module": "@jupyter-widgets/controls",
            "_model_module_version": "1.5.0",
            "_model_name": "DescriptionStyleModel",
            "_view_count": null,
            "_view_module": "@jupyter-widgets/base",
            "_view_module_version": "1.2.0",
            "_view_name": "StyleView",
            "description_width": ""
          }
        },
        "4bec779ae9e34ee0b269f436ebda1086": {
          "model_module": "@jupyter-widgets/base",
          "model_name": "LayoutModel",
          "model_module_version": "1.2.0",
          "state": {
            "_model_module": "@jupyter-widgets/base",
            "_model_module_version": "1.2.0",
            "_model_name": "LayoutModel",
            "_view_count": null,
            "_view_module": "@jupyter-widgets/base",
            "_view_module_version": "1.2.0",
            "_view_name": "LayoutView",
            "align_content": null,
            "align_items": null,
            "align_self": null,
            "border": null,
            "bottom": null,
            "display": null,
            "flex": null,
            "flex_flow": null,
            "grid_area": null,
            "grid_auto_columns": null,
            "grid_auto_flow": null,
            "grid_auto_rows": null,
            "grid_column": null,
            "grid_gap": null,
            "grid_row": null,
            "grid_template_areas": null,
            "grid_template_columns": null,
            "grid_template_rows": null,
            "height": null,
            "justify_content": null,
            "justify_items": null,
            "left": null,
            "margin": null,
            "max_height": null,
            "max_width": null,
            "min_height": null,
            "min_width": null,
            "object_fit": null,
            "object_position": null,
            "order": null,
            "overflow": null,
            "overflow_x": null,
            "overflow_y": null,
            "padding": null,
            "right": null,
            "top": null,
            "visibility": null,
            "width": null
          }
        },
        "359116f9f3884f678d04c94f9f90eefd": {
          "model_module": "@jupyter-widgets/controls",
          "model_name": "ProgressStyleModel",
          "model_module_version": "1.5.0",
          "state": {
            "_model_module": "@jupyter-widgets/controls",
            "_model_module_version": "1.5.0",
            "_model_name": "ProgressStyleModel",
            "_view_count": null,
            "_view_module": "@jupyter-widgets/base",
            "_view_module_version": "1.2.0",
            "_view_name": "StyleView",
            "bar_color": null,
            "description_width": ""
          }
        },
        "0aa88c4327784eca8bb11142978bce46": {
          "model_module": "@jupyter-widgets/base",
          "model_name": "LayoutModel",
          "model_module_version": "1.2.0",
          "state": {
            "_model_module": "@jupyter-widgets/base",
            "_model_module_version": "1.2.0",
            "_model_name": "LayoutModel",
            "_view_count": null,
            "_view_module": "@jupyter-widgets/base",
            "_view_module_version": "1.2.0",
            "_view_name": "LayoutView",
            "align_content": null,
            "align_items": null,
            "align_self": null,
            "border": null,
            "bottom": null,
            "display": null,
            "flex": null,
            "flex_flow": null,
            "grid_area": null,
            "grid_auto_columns": null,
            "grid_auto_flow": null,
            "grid_auto_rows": null,
            "grid_column": null,
            "grid_gap": null,
            "grid_row": null,
            "grid_template_areas": null,
            "grid_template_columns": null,
            "grid_template_rows": null,
            "height": null,
            "justify_content": null,
            "justify_items": null,
            "left": null,
            "margin": null,
            "max_height": null,
            "max_width": null,
            "min_height": null,
            "min_width": null,
            "object_fit": null,
            "object_position": null,
            "order": null,
            "overflow": null,
            "overflow_x": null,
            "overflow_y": null,
            "padding": null,
            "right": null,
            "top": null,
            "visibility": null,
            "width": null
          }
        },
        "36b881f57aae40aa84008f23b8ac50b4": {
          "model_module": "@jupyter-widgets/controls",
          "model_name": "DescriptionStyleModel",
          "model_module_version": "1.5.0",
          "state": {
            "_model_module": "@jupyter-widgets/controls",
            "_model_module_version": "1.5.0",
            "_model_name": "DescriptionStyleModel",
            "_view_count": null,
            "_view_module": "@jupyter-widgets/base",
            "_view_module_version": "1.2.0",
            "_view_name": "StyleView",
            "description_width": ""
          }
        },
        "f5f02789589b497bb30e331f1f7d4a29": {
          "model_module": "@jupyter-widgets/controls",
          "model_name": "HBoxModel",
          "model_module_version": "1.5.0",
          "state": {
            "_dom_classes": [],
            "_model_module": "@jupyter-widgets/controls",
            "_model_module_version": "1.5.0",
            "_model_name": "HBoxModel",
            "_view_count": null,
            "_view_module": "@jupyter-widgets/controls",
            "_view_module_version": "1.5.0",
            "_view_name": "HBoxView",
            "box_style": "",
            "children": [
              "IPY_MODEL_a4ff8210587a448283dd66ff6224a6fd",
              "IPY_MODEL_3d9e14e9045e44ee94509521d9c28e6a",
              "IPY_MODEL_378d3cd582bb46b388c812e54eef264b"
            ],
            "layout": "IPY_MODEL_f3f7ec2ab8b64256b61721b7043224cd"
          }
        },
        "a4ff8210587a448283dd66ff6224a6fd": {
          "model_module": "@jupyter-widgets/controls",
          "model_name": "HTMLModel",
          "model_module_version": "1.5.0",
          "state": {
            "_dom_classes": [],
            "_model_module": "@jupyter-widgets/controls",
            "_model_module_version": "1.5.0",
            "_model_name": "HTMLModel",
            "_view_count": null,
            "_view_module": "@jupyter-widgets/controls",
            "_view_module_version": "1.5.0",
            "_view_name": "HTMLView",
            "description": "",
            "description_tooltip": null,
            "layout": "IPY_MODEL_f9ac689c36ea4d12a501c4a0d19226f4",
            "placeholder": "​",
            "style": "IPY_MODEL_9d6b3cd182164a35b7993e3942c24edd",
            "value": "vocab.json: "
          }
        },
        "3d9e14e9045e44ee94509521d9c28e6a": {
          "model_module": "@jupyter-widgets/controls",
          "model_name": "FloatProgressModel",
          "model_module_version": "1.5.0",
          "state": {
            "_dom_classes": [],
            "_model_module": "@jupyter-widgets/controls",
            "_model_module_version": "1.5.0",
            "_model_name": "FloatProgressModel",
            "_view_count": null,
            "_view_module": "@jupyter-widgets/controls",
            "_view_module_version": "1.5.0",
            "_view_name": "ProgressView",
            "bar_style": "success",
            "description": "",
            "description_tooltip": null,
            "layout": "IPY_MODEL_5d72ed7a07604503837a227415162815",
            "max": 1,
            "min": 0,
            "orientation": "horizontal",
            "style": "IPY_MODEL_ed0465ef98ae4a5c9241bf64b6d173e6",
            "value": 1
          }
        },
        "378d3cd582bb46b388c812e54eef264b": {
          "model_module": "@jupyter-widgets/controls",
          "model_name": "HTMLModel",
          "model_module_version": "1.5.0",
          "state": {
            "_dom_classes": [],
            "_model_module": "@jupyter-widgets/controls",
            "_model_module_version": "1.5.0",
            "_model_name": "HTMLModel",
            "_view_count": null,
            "_view_module": "@jupyter-widgets/controls",
            "_view_module_version": "1.5.0",
            "_view_name": "HTMLView",
            "description": "",
            "description_tooltip": null,
            "layout": "IPY_MODEL_9bdcfb94cb5e40a5ab9ad3c4975fb22c",
            "placeholder": "​",
            "style": "IPY_MODEL_c3ee659b35da4767af134bec5e7ede2b",
            "value": " 899k/? [00:00&lt;00:00, 38.9MB/s]"
          }
        },
        "f3f7ec2ab8b64256b61721b7043224cd": {
          "model_module": "@jupyter-widgets/base",
          "model_name": "LayoutModel",
          "model_module_version": "1.2.0",
          "state": {
            "_model_module": "@jupyter-widgets/base",
            "_model_module_version": "1.2.0",
            "_model_name": "LayoutModel",
            "_view_count": null,
            "_view_module": "@jupyter-widgets/base",
            "_view_module_version": "1.2.0",
            "_view_name": "LayoutView",
            "align_content": null,
            "align_items": null,
            "align_self": null,
            "border": null,
            "bottom": null,
            "display": null,
            "flex": null,
            "flex_flow": null,
            "grid_area": null,
            "grid_auto_columns": null,
            "grid_auto_flow": null,
            "grid_auto_rows": null,
            "grid_column": null,
            "grid_gap": null,
            "grid_row": null,
            "grid_template_areas": null,
            "grid_template_columns": null,
            "grid_template_rows": null,
            "height": null,
            "justify_content": null,
            "justify_items": null,
            "left": null,
            "margin": null,
            "max_height": null,
            "max_width": null,
            "min_height": null,
            "min_width": null,
            "object_fit": null,
            "object_position": null,
            "order": null,
            "overflow": null,
            "overflow_x": null,
            "overflow_y": null,
            "padding": null,
            "right": null,
            "top": null,
            "visibility": null,
            "width": null
          }
        },
        "f9ac689c36ea4d12a501c4a0d19226f4": {
          "model_module": "@jupyter-widgets/base",
          "model_name": "LayoutModel",
          "model_module_version": "1.2.0",
          "state": {
            "_model_module": "@jupyter-widgets/base",
            "_model_module_version": "1.2.0",
            "_model_name": "LayoutModel",
            "_view_count": null,
            "_view_module": "@jupyter-widgets/base",
            "_view_module_version": "1.2.0",
            "_view_name": "LayoutView",
            "align_content": null,
            "align_items": null,
            "align_self": null,
            "border": null,
            "bottom": null,
            "display": null,
            "flex": null,
            "flex_flow": null,
            "grid_area": null,
            "grid_auto_columns": null,
            "grid_auto_flow": null,
            "grid_auto_rows": null,
            "grid_column": null,
            "grid_gap": null,
            "grid_row": null,
            "grid_template_areas": null,
            "grid_template_columns": null,
            "grid_template_rows": null,
            "height": null,
            "justify_content": null,
            "justify_items": null,
            "left": null,
            "margin": null,
            "max_height": null,
            "max_width": null,
            "min_height": null,
            "min_width": null,
            "object_fit": null,
            "object_position": null,
            "order": null,
            "overflow": null,
            "overflow_x": null,
            "overflow_y": null,
            "padding": null,
            "right": null,
            "top": null,
            "visibility": null,
            "width": null
          }
        },
        "9d6b3cd182164a35b7993e3942c24edd": {
          "model_module": "@jupyter-widgets/controls",
          "model_name": "DescriptionStyleModel",
          "model_module_version": "1.5.0",
          "state": {
            "_model_module": "@jupyter-widgets/controls",
            "_model_module_version": "1.5.0",
            "_model_name": "DescriptionStyleModel",
            "_view_count": null,
            "_view_module": "@jupyter-widgets/base",
            "_view_module_version": "1.2.0",
            "_view_name": "StyleView",
            "description_width": ""
          }
        },
        "5d72ed7a07604503837a227415162815": {
          "model_module": "@jupyter-widgets/base",
          "model_name": "LayoutModel",
          "model_module_version": "1.2.0",
          "state": {
            "_model_module": "@jupyter-widgets/base",
            "_model_module_version": "1.2.0",
            "_model_name": "LayoutModel",
            "_view_count": null,
            "_view_module": "@jupyter-widgets/base",
            "_view_module_version": "1.2.0",
            "_view_name": "LayoutView",
            "align_content": null,
            "align_items": null,
            "align_self": null,
            "border": null,
            "bottom": null,
            "display": null,
            "flex": null,
            "flex_flow": null,
            "grid_area": null,
            "grid_auto_columns": null,
            "grid_auto_flow": null,
            "grid_auto_rows": null,
            "grid_column": null,
            "grid_gap": null,
            "grid_row": null,
            "grid_template_areas": null,
            "grid_template_columns": null,
            "grid_template_rows": null,
            "height": null,
            "justify_content": null,
            "justify_items": null,
            "left": null,
            "margin": null,
            "max_height": null,
            "max_width": null,
            "min_height": null,
            "min_width": null,
            "object_fit": null,
            "object_position": null,
            "order": null,
            "overflow": null,
            "overflow_x": null,
            "overflow_y": null,
            "padding": null,
            "right": null,
            "top": null,
            "visibility": null,
            "width": "20px"
          }
        },
        "ed0465ef98ae4a5c9241bf64b6d173e6": {
          "model_module": "@jupyter-widgets/controls",
          "model_name": "ProgressStyleModel",
          "model_module_version": "1.5.0",
          "state": {
            "_model_module": "@jupyter-widgets/controls",
            "_model_module_version": "1.5.0",
            "_model_name": "ProgressStyleModel",
            "_view_count": null,
            "_view_module": "@jupyter-widgets/base",
            "_view_module_version": "1.2.0",
            "_view_name": "StyleView",
            "bar_color": null,
            "description_width": ""
          }
        },
        "9bdcfb94cb5e40a5ab9ad3c4975fb22c": {
          "model_module": "@jupyter-widgets/base",
          "model_name": "LayoutModel",
          "model_module_version": "1.2.0",
          "state": {
            "_model_module": "@jupyter-widgets/base",
            "_model_module_version": "1.2.0",
            "_model_name": "LayoutModel",
            "_view_count": null,
            "_view_module": "@jupyter-widgets/base",
            "_view_module_version": "1.2.0",
            "_view_name": "LayoutView",
            "align_content": null,
            "align_items": null,
            "align_self": null,
            "border": null,
            "bottom": null,
            "display": null,
            "flex": null,
            "flex_flow": null,
            "grid_area": null,
            "grid_auto_columns": null,
            "grid_auto_flow": null,
            "grid_auto_rows": null,
            "grid_column": null,
            "grid_gap": null,
            "grid_row": null,
            "grid_template_areas": null,
            "grid_template_columns": null,
            "grid_template_rows": null,
            "height": null,
            "justify_content": null,
            "justify_items": null,
            "left": null,
            "margin": null,
            "max_height": null,
            "max_width": null,
            "min_height": null,
            "min_width": null,
            "object_fit": null,
            "object_position": null,
            "order": null,
            "overflow": null,
            "overflow_x": null,
            "overflow_y": null,
            "padding": null,
            "right": null,
            "top": null,
            "visibility": null,
            "width": null
          }
        },
        "c3ee659b35da4767af134bec5e7ede2b": {
          "model_module": "@jupyter-widgets/controls",
          "model_name": "DescriptionStyleModel",
          "model_module_version": "1.5.0",
          "state": {
            "_model_module": "@jupyter-widgets/controls",
            "_model_module_version": "1.5.0",
            "_model_name": "DescriptionStyleModel",
            "_view_count": null,
            "_view_module": "@jupyter-widgets/base",
            "_view_module_version": "1.2.0",
            "_view_name": "StyleView",
            "description_width": ""
          }
        },
        "9b74549d443e46f7b1587a605fac0c2a": {
          "model_module": "@jupyter-widgets/controls",
          "model_name": "HBoxModel",
          "model_module_version": "1.5.0",
          "state": {
            "_dom_classes": [],
            "_model_module": "@jupyter-widgets/controls",
            "_model_module_version": "1.5.0",
            "_model_name": "HBoxModel",
            "_view_count": null,
            "_view_module": "@jupyter-widgets/controls",
            "_view_module_version": "1.5.0",
            "_view_name": "HBoxView",
            "box_style": "",
            "children": [
              "IPY_MODEL_1524506b587f496e8bf59c0c68ece2ac",
              "IPY_MODEL_64083803501040dea96b03993298c1fd",
              "IPY_MODEL_97f3fc433eec42dfa0aa5997f276498e"
            ],
            "layout": "IPY_MODEL_1981da607cb24d23b3b17b866cd94ecf"
          }
        },
        "1524506b587f496e8bf59c0c68ece2ac": {
          "model_module": "@jupyter-widgets/controls",
          "model_name": "HTMLModel",
          "model_module_version": "1.5.0",
          "state": {
            "_dom_classes": [],
            "_model_module": "@jupyter-widgets/controls",
            "_model_module_version": "1.5.0",
            "_model_name": "HTMLModel",
            "_view_count": null,
            "_view_module": "@jupyter-widgets/controls",
            "_view_module_version": "1.5.0",
            "_view_name": "HTMLView",
            "description": "",
            "description_tooltip": null,
            "layout": "IPY_MODEL_baa4db86c09c4e3ab4e4d711a24426be",
            "placeholder": "​",
            "style": "IPY_MODEL_80a6bab67e724e20b9d5b895a4c97764",
            "value": "merges.txt: "
          }
        },
        "64083803501040dea96b03993298c1fd": {
          "model_module": "@jupyter-widgets/controls",
          "model_name": "FloatProgressModel",
          "model_module_version": "1.5.0",
          "state": {
            "_dom_classes": [],
            "_model_module": "@jupyter-widgets/controls",
            "_model_module_version": "1.5.0",
            "_model_name": "FloatProgressModel",
            "_view_count": null,
            "_view_module": "@jupyter-widgets/controls",
            "_view_module_version": "1.5.0",
            "_view_name": "ProgressView",
            "bar_style": "success",
            "description": "",
            "description_tooltip": null,
            "layout": "IPY_MODEL_cbf3cdda838848ba99b5b0c719e15966",
            "max": 1,
            "min": 0,
            "orientation": "horizontal",
            "style": "IPY_MODEL_62600b56d6b44247ab1c125ce32d1c66",
            "value": 1
          }
        },
        "97f3fc433eec42dfa0aa5997f276498e": {
          "model_module": "@jupyter-widgets/controls",
          "model_name": "HTMLModel",
          "model_module_version": "1.5.0",
          "state": {
            "_dom_classes": [],
            "_model_module": "@jupyter-widgets/controls",
            "_model_module_version": "1.5.0",
            "_model_name": "HTMLModel",
            "_view_count": null,
            "_view_module": "@jupyter-widgets/controls",
            "_view_module_version": "1.5.0",
            "_view_name": "HTMLView",
            "description": "",
            "description_tooltip": null,
            "layout": "IPY_MODEL_1aa94ad9e3a540d8acd74fa37525a5a5",
            "placeholder": "​",
            "style": "IPY_MODEL_2542342e93e8422192a2f6e9674065ec",
            "value": " 456k/? [00:00&lt;00:00, 26.9MB/s]"
          }
        },
        "1981da607cb24d23b3b17b866cd94ecf": {
          "model_module": "@jupyter-widgets/base",
          "model_name": "LayoutModel",
          "model_module_version": "1.2.0",
          "state": {
            "_model_module": "@jupyter-widgets/base",
            "_model_module_version": "1.2.0",
            "_model_name": "LayoutModel",
            "_view_count": null,
            "_view_module": "@jupyter-widgets/base",
            "_view_module_version": "1.2.0",
            "_view_name": "LayoutView",
            "align_content": null,
            "align_items": null,
            "align_self": null,
            "border": null,
            "bottom": null,
            "display": null,
            "flex": null,
            "flex_flow": null,
            "grid_area": null,
            "grid_auto_columns": null,
            "grid_auto_flow": null,
            "grid_auto_rows": null,
            "grid_column": null,
            "grid_gap": null,
            "grid_row": null,
            "grid_template_areas": null,
            "grid_template_columns": null,
            "grid_template_rows": null,
            "height": null,
            "justify_content": null,
            "justify_items": null,
            "left": null,
            "margin": null,
            "max_height": null,
            "max_width": null,
            "min_height": null,
            "min_width": null,
            "object_fit": null,
            "object_position": null,
            "order": null,
            "overflow": null,
            "overflow_x": null,
            "overflow_y": null,
            "padding": null,
            "right": null,
            "top": null,
            "visibility": null,
            "width": null
          }
        },
        "baa4db86c09c4e3ab4e4d711a24426be": {
          "model_module": "@jupyter-widgets/base",
          "model_name": "LayoutModel",
          "model_module_version": "1.2.0",
          "state": {
            "_model_module": "@jupyter-widgets/base",
            "_model_module_version": "1.2.0",
            "_model_name": "LayoutModel",
            "_view_count": null,
            "_view_module": "@jupyter-widgets/base",
            "_view_module_version": "1.2.0",
            "_view_name": "LayoutView",
            "align_content": null,
            "align_items": null,
            "align_self": null,
            "border": null,
            "bottom": null,
            "display": null,
            "flex": null,
            "flex_flow": null,
            "grid_area": null,
            "grid_auto_columns": null,
            "grid_auto_flow": null,
            "grid_auto_rows": null,
            "grid_column": null,
            "grid_gap": null,
            "grid_row": null,
            "grid_template_areas": null,
            "grid_template_columns": null,
            "grid_template_rows": null,
            "height": null,
            "justify_content": null,
            "justify_items": null,
            "left": null,
            "margin": null,
            "max_height": null,
            "max_width": null,
            "min_height": null,
            "min_width": null,
            "object_fit": null,
            "object_position": null,
            "order": null,
            "overflow": null,
            "overflow_x": null,
            "overflow_y": null,
            "padding": null,
            "right": null,
            "top": null,
            "visibility": null,
            "width": null
          }
        },
        "80a6bab67e724e20b9d5b895a4c97764": {
          "model_module": "@jupyter-widgets/controls",
          "model_name": "DescriptionStyleModel",
          "model_module_version": "1.5.0",
          "state": {
            "_model_module": "@jupyter-widgets/controls",
            "_model_module_version": "1.5.0",
            "_model_name": "DescriptionStyleModel",
            "_view_count": null,
            "_view_module": "@jupyter-widgets/base",
            "_view_module_version": "1.2.0",
            "_view_name": "StyleView",
            "description_width": ""
          }
        },
        "cbf3cdda838848ba99b5b0c719e15966": {
          "model_module": "@jupyter-widgets/base",
          "model_name": "LayoutModel",
          "model_module_version": "1.2.0",
          "state": {
            "_model_module": "@jupyter-widgets/base",
            "_model_module_version": "1.2.0",
            "_model_name": "LayoutModel",
            "_view_count": null,
            "_view_module": "@jupyter-widgets/base",
            "_view_module_version": "1.2.0",
            "_view_name": "LayoutView",
            "align_content": null,
            "align_items": null,
            "align_self": null,
            "border": null,
            "bottom": null,
            "display": null,
            "flex": null,
            "flex_flow": null,
            "grid_area": null,
            "grid_auto_columns": null,
            "grid_auto_flow": null,
            "grid_auto_rows": null,
            "grid_column": null,
            "grid_gap": null,
            "grid_row": null,
            "grid_template_areas": null,
            "grid_template_columns": null,
            "grid_template_rows": null,
            "height": null,
            "justify_content": null,
            "justify_items": null,
            "left": null,
            "margin": null,
            "max_height": null,
            "max_width": null,
            "min_height": null,
            "min_width": null,
            "object_fit": null,
            "object_position": null,
            "order": null,
            "overflow": null,
            "overflow_x": null,
            "overflow_y": null,
            "padding": null,
            "right": null,
            "top": null,
            "visibility": null,
            "width": "20px"
          }
        },
        "62600b56d6b44247ab1c125ce32d1c66": {
          "model_module": "@jupyter-widgets/controls",
          "model_name": "ProgressStyleModel",
          "model_module_version": "1.5.0",
          "state": {
            "_model_module": "@jupyter-widgets/controls",
            "_model_module_version": "1.5.0",
            "_model_name": "ProgressStyleModel",
            "_view_count": null,
            "_view_module": "@jupyter-widgets/base",
            "_view_module_version": "1.2.0",
            "_view_name": "StyleView",
            "bar_color": null,
            "description_width": ""
          }
        },
        "1aa94ad9e3a540d8acd74fa37525a5a5": {
          "model_module": "@jupyter-widgets/base",
          "model_name": "LayoutModel",
          "model_module_version": "1.2.0",
          "state": {
            "_model_module": "@jupyter-widgets/base",
            "_model_module_version": "1.2.0",
            "_model_name": "LayoutModel",
            "_view_count": null,
            "_view_module": "@jupyter-widgets/base",
            "_view_module_version": "1.2.0",
            "_view_name": "LayoutView",
            "align_content": null,
            "align_items": null,
            "align_self": null,
            "border": null,
            "bottom": null,
            "display": null,
            "flex": null,
            "flex_flow": null,
            "grid_area": null,
            "grid_auto_columns": null,
            "grid_auto_flow": null,
            "grid_auto_rows": null,
            "grid_column": null,
            "grid_gap": null,
            "grid_row": null,
            "grid_template_areas": null,
            "grid_template_columns": null,
            "grid_template_rows": null,
            "height": null,
            "justify_content": null,
            "justify_items": null,
            "left": null,
            "margin": null,
            "max_height": null,
            "max_width": null,
            "min_height": null,
            "min_width": null,
            "object_fit": null,
            "object_position": null,
            "order": null,
            "overflow": null,
            "overflow_x": null,
            "overflow_y": null,
            "padding": null,
            "right": null,
            "top": null,
            "visibility": null,
            "width": null
          }
        },
        "2542342e93e8422192a2f6e9674065ec": {
          "model_module": "@jupyter-widgets/controls",
          "model_name": "DescriptionStyleModel",
          "model_module_version": "1.5.0",
          "state": {
            "_model_module": "@jupyter-widgets/controls",
            "_model_module_version": "1.5.0",
            "_model_name": "DescriptionStyleModel",
            "_view_count": null,
            "_view_module": "@jupyter-widgets/base",
            "_view_module_version": "1.2.0",
            "_view_name": "StyleView",
            "description_width": ""
          }
        },
        "c5af566a6fe443b5b11a109a08bb6893": {
          "model_module": "@jupyter-widgets/controls",
          "model_name": "HBoxModel",
          "model_module_version": "1.5.0",
          "state": {
            "_dom_classes": [],
            "_model_module": "@jupyter-widgets/controls",
            "_model_module_version": "1.5.0",
            "_model_name": "HBoxModel",
            "_view_count": null,
            "_view_module": "@jupyter-widgets/controls",
            "_view_module_version": "1.5.0",
            "_view_name": "HBoxView",
            "box_style": "",
            "children": [
              "IPY_MODEL_cb9d48a3c99c4a48892d5e4817ea2196",
              "IPY_MODEL_676304820b514506ae36e592cb1174e3",
              "IPY_MODEL_e3d47e9d94a94d1890510e5accbfe0a2"
            ],
            "layout": "IPY_MODEL_915306e0eae546ab8eef0fcc23a7c1c3"
          }
        },
        "cb9d48a3c99c4a48892d5e4817ea2196": {
          "model_module": "@jupyter-widgets/controls",
          "model_name": "HTMLModel",
          "model_module_version": "1.5.0",
          "state": {
            "_dom_classes": [],
            "_model_module": "@jupyter-widgets/controls",
            "_model_module_version": "1.5.0",
            "_model_name": "HTMLModel",
            "_view_count": null,
            "_view_module": "@jupyter-widgets/controls",
            "_view_module_version": "1.5.0",
            "_view_name": "HTMLView",
            "description": "",
            "description_tooltip": null,
            "layout": "IPY_MODEL_988711fec26a4662953ff150ebaa069b",
            "placeholder": "​",
            "style": "IPY_MODEL_62f672693d8c434dbbdd9739ebcd7691",
            "value": "tokenizer.json: "
          }
        },
        "676304820b514506ae36e592cb1174e3": {
          "model_module": "@jupyter-widgets/controls",
          "model_name": "FloatProgressModel",
          "model_module_version": "1.5.0",
          "state": {
            "_dom_classes": [],
            "_model_module": "@jupyter-widgets/controls",
            "_model_module_version": "1.5.0",
            "_model_name": "FloatProgressModel",
            "_view_count": null,
            "_view_module": "@jupyter-widgets/controls",
            "_view_module_version": "1.5.0",
            "_view_name": "ProgressView",
            "bar_style": "success",
            "description": "",
            "description_tooltip": null,
            "layout": "IPY_MODEL_bd60b1c338ca4542b2834328554dbcfe",
            "max": 1,
            "min": 0,
            "orientation": "horizontal",
            "style": "IPY_MODEL_9411227c0fee4aa995cf07c4c70a157c",
            "value": 1
          }
        },
        "e3d47e9d94a94d1890510e5accbfe0a2": {
          "model_module": "@jupyter-widgets/controls",
          "model_name": "HTMLModel",
          "model_module_version": "1.5.0",
          "state": {
            "_dom_classes": [],
            "_model_module": "@jupyter-widgets/controls",
            "_model_module_version": "1.5.0",
            "_model_name": "HTMLModel",
            "_view_count": null,
            "_view_module": "@jupyter-widgets/controls",
            "_view_module_version": "1.5.0",
            "_view_name": "HTMLView",
            "description": "",
            "description_tooltip": null,
            "layout": "IPY_MODEL_205419d764c24a0bb60b3385db5bea63",
            "placeholder": "​",
            "style": "IPY_MODEL_20b6489ea48144ac90262ee3554dbc00",
            "value": " 1.36M/? [00:00&lt;00:00, 45.2MB/s]"
          }
        },
        "915306e0eae546ab8eef0fcc23a7c1c3": {
          "model_module": "@jupyter-widgets/base",
          "model_name": "LayoutModel",
          "model_module_version": "1.2.0",
          "state": {
            "_model_module": "@jupyter-widgets/base",
            "_model_module_version": "1.2.0",
            "_model_name": "LayoutModel",
            "_view_count": null,
            "_view_module": "@jupyter-widgets/base",
            "_view_module_version": "1.2.0",
            "_view_name": "LayoutView",
            "align_content": null,
            "align_items": null,
            "align_self": null,
            "border": null,
            "bottom": null,
            "display": null,
            "flex": null,
            "flex_flow": null,
            "grid_area": null,
            "grid_auto_columns": null,
            "grid_auto_flow": null,
            "grid_auto_rows": null,
            "grid_column": null,
            "grid_gap": null,
            "grid_row": null,
            "grid_template_areas": null,
            "grid_template_columns": null,
            "grid_template_rows": null,
            "height": null,
            "justify_content": null,
            "justify_items": null,
            "left": null,
            "margin": null,
            "max_height": null,
            "max_width": null,
            "min_height": null,
            "min_width": null,
            "object_fit": null,
            "object_position": null,
            "order": null,
            "overflow": null,
            "overflow_x": null,
            "overflow_y": null,
            "padding": null,
            "right": null,
            "top": null,
            "visibility": null,
            "width": null
          }
        },
        "988711fec26a4662953ff150ebaa069b": {
          "model_module": "@jupyter-widgets/base",
          "model_name": "LayoutModel",
          "model_module_version": "1.2.0",
          "state": {
            "_model_module": "@jupyter-widgets/base",
            "_model_module_version": "1.2.0",
            "_model_name": "LayoutModel",
            "_view_count": null,
            "_view_module": "@jupyter-widgets/base",
            "_view_module_version": "1.2.0",
            "_view_name": "LayoutView",
            "align_content": null,
            "align_items": null,
            "align_self": null,
            "border": null,
            "bottom": null,
            "display": null,
            "flex": null,
            "flex_flow": null,
            "grid_area": null,
            "grid_auto_columns": null,
            "grid_auto_flow": null,
            "grid_auto_rows": null,
            "grid_column": null,
            "grid_gap": null,
            "grid_row": null,
            "grid_template_areas": null,
            "grid_template_columns": null,
            "grid_template_rows": null,
            "height": null,
            "justify_content": null,
            "justify_items": null,
            "left": null,
            "margin": null,
            "max_height": null,
            "max_width": null,
            "min_height": null,
            "min_width": null,
            "object_fit": null,
            "object_position": null,
            "order": null,
            "overflow": null,
            "overflow_x": null,
            "overflow_y": null,
            "padding": null,
            "right": null,
            "top": null,
            "visibility": null,
            "width": null
          }
        },
        "62f672693d8c434dbbdd9739ebcd7691": {
          "model_module": "@jupyter-widgets/controls",
          "model_name": "DescriptionStyleModel",
          "model_module_version": "1.5.0",
          "state": {
            "_model_module": "@jupyter-widgets/controls",
            "_model_module_version": "1.5.0",
            "_model_name": "DescriptionStyleModel",
            "_view_count": null,
            "_view_module": "@jupyter-widgets/base",
            "_view_module_version": "1.2.0",
            "_view_name": "StyleView",
            "description_width": ""
          }
        },
        "bd60b1c338ca4542b2834328554dbcfe": {
          "model_module": "@jupyter-widgets/base",
          "model_name": "LayoutModel",
          "model_module_version": "1.2.0",
          "state": {
            "_model_module": "@jupyter-widgets/base",
            "_model_module_version": "1.2.0",
            "_model_name": "LayoutModel",
            "_view_count": null,
            "_view_module": "@jupyter-widgets/base",
            "_view_module_version": "1.2.0",
            "_view_name": "LayoutView",
            "align_content": null,
            "align_items": null,
            "align_self": null,
            "border": null,
            "bottom": null,
            "display": null,
            "flex": null,
            "flex_flow": null,
            "grid_area": null,
            "grid_auto_columns": null,
            "grid_auto_flow": null,
            "grid_auto_rows": null,
            "grid_column": null,
            "grid_gap": null,
            "grid_row": null,
            "grid_template_areas": null,
            "grid_template_columns": null,
            "grid_template_rows": null,
            "height": null,
            "justify_content": null,
            "justify_items": null,
            "left": null,
            "margin": null,
            "max_height": null,
            "max_width": null,
            "min_height": null,
            "min_width": null,
            "object_fit": null,
            "object_position": null,
            "order": null,
            "overflow": null,
            "overflow_x": null,
            "overflow_y": null,
            "padding": null,
            "right": null,
            "top": null,
            "visibility": null,
            "width": "20px"
          }
        },
        "9411227c0fee4aa995cf07c4c70a157c": {
          "model_module": "@jupyter-widgets/controls",
          "model_name": "ProgressStyleModel",
          "model_module_version": "1.5.0",
          "state": {
            "_model_module": "@jupyter-widgets/controls",
            "_model_module_version": "1.5.0",
            "_model_name": "ProgressStyleModel",
            "_view_count": null,
            "_view_module": "@jupyter-widgets/base",
            "_view_module_version": "1.2.0",
            "_view_name": "StyleView",
            "bar_color": null,
            "description_width": ""
          }
        },
        "205419d764c24a0bb60b3385db5bea63": {
          "model_module": "@jupyter-widgets/base",
          "model_name": "LayoutModel",
          "model_module_version": "1.2.0",
          "state": {
            "_model_module": "@jupyter-widgets/base",
            "_model_module_version": "1.2.0",
            "_model_name": "LayoutModel",
            "_view_count": null,
            "_view_module": "@jupyter-widgets/base",
            "_view_module_version": "1.2.0",
            "_view_name": "LayoutView",
            "align_content": null,
            "align_items": null,
            "align_self": null,
            "border": null,
            "bottom": null,
            "display": null,
            "flex": null,
            "flex_flow": null,
            "grid_area": null,
            "grid_auto_columns": null,
            "grid_auto_flow": null,
            "grid_auto_rows": null,
            "grid_column": null,
            "grid_gap": null,
            "grid_row": null,
            "grid_template_areas": null,
            "grid_template_columns": null,
            "grid_template_rows": null,
            "height": null,
            "justify_content": null,
            "justify_items": null,
            "left": null,
            "margin": null,
            "max_height": null,
            "max_width": null,
            "min_height": null,
            "min_width": null,
            "object_fit": null,
            "object_position": null,
            "order": null,
            "overflow": null,
            "overflow_x": null,
            "overflow_y": null,
            "padding": null,
            "right": null,
            "top": null,
            "visibility": null,
            "width": null
          }
        },
        "20b6489ea48144ac90262ee3554dbc00": {
          "model_module": "@jupyter-widgets/controls",
          "model_name": "DescriptionStyleModel",
          "model_module_version": "1.5.0",
          "state": {
            "_model_module": "@jupyter-widgets/controls",
            "_model_module_version": "1.5.0",
            "_model_name": "DescriptionStyleModel",
            "_view_count": null,
            "_view_module": "@jupyter-widgets/base",
            "_view_module_version": "1.2.0",
            "_view_name": "StyleView",
            "description_width": ""
          }
        }
      }
    }
  },
  "cells": [
    {
      "cell_type": "markdown",
      "source": [
        "# Dataset: BBCSport\n",
        "\n",
        "All rights, including copyright, in the content of the original articles are owned by the BBC.\n",
        "\n",
        "Consists of 737 documents from the BBC Sport website corresponding to sports news articles in five topical areas from 2004-2005.\n",
        "\n",
        "#### Class Labels: 5 (athletics, cricket, football, rugby, tennis)"
      ],
      "metadata": {
        "id": "YHJHkvf5_Ciu"
      }
    },
    {
      "cell_type": "code",
      "execution_count": 1,
      "metadata": {
        "colab": {
          "base_uri": "https://localhost:8080/"
        },
        "id": "0fOwQLy6-o1C",
        "outputId": "ad9f9b71-8bdd-4b26-d0c6-14c639d7ebdf"
      },
      "outputs": [
        {
          "output_type": "stream",
          "name": "stdout",
          "text": [
            "Unzipping Complete\n"
          ]
        }
      ],
      "source": [
        "import zipfile\n",
        "import os\n",
        "\n",
        "extract = '/content/drive/MyDrive/Personal Project/Natural Langauge Processing /bbcsport'\n",
        "path = '/content/drive/MyDrive/Personal Project/Natural Langauge Processing /bbcsport-fulltext.zip'\n",
        "\n",
        "with zipfile.ZipFile(path, 'r') as k:\n",
        "  k.extractall(extract)\n",
        "\n",
        "print('Unzipping Complete')"
      ]
    },
    {
      "cell_type": "code",
      "source": [
        "import os\n",
        "from pathlib import Path\n",
        "\n",
        "newpath = '/content/drive/MyDrive/Personal Project/Natural Langauge Processing /bbcsport/bbcsport'\n",
        "\n",
        "data_dir = Path(newpath)\n",
        "\n",
        "texts = []\n",
        "labels = []\n",
        "\n",
        "for label in os.listdir(data_dir):\n",
        "  category_dir = data_dir / label\n",
        "  if category_dir.is_dir():\n",
        "    for file_path in category_dir.glob(\"*.txt\"):\n",
        "      with open(file_path, encoding='latin-1') as f:\n",
        "        text = f.read().strip()\n",
        "        texts.append(text)\n",
        "        labels.append(label)\n",
        "\n",
        "print(f\"Loaded {len(texts)} documents.\")\n",
        "print(\"Sample label:\", set(labels))"
      ],
      "metadata": {
        "colab": {
          "base_uri": "https://localhost:8080/"
        },
        "id": "vzemZZgjAMYd",
        "outputId": "4025c6ac-3e96-4e66-ebc2-7b4100fc1240"
      },
      "execution_count": 2,
      "outputs": [
        {
          "output_type": "stream",
          "name": "stdout",
          "text": [
            "Loaded 737 documents.\n",
            "Sample label: {'football', 'tennis', 'cricket', 'rugby', 'athletics'}\n"
          ]
        }
      ]
    },
    {
      "cell_type": "code",
      "source": [
        "print(texts[1])"
      ],
      "metadata": {
        "colab": {
          "base_uri": "https://localhost:8080/"
        },
        "id": "-viP5RzgCN9D",
        "outputId": "d99e0acb-8b02-46c4-b9ac-7b80e66494b9"
      },
      "execution_count": 3,
      "outputs": [
        {
          "output_type": "stream",
          "name": "stdout",
          "text": [
            "Reyes tricked into Real admission\n",
            "\n",
            "Jose Antonio Reyes has added to speculation linking him with a move from Arsenal to Real Madrid after falling victim to a radio prank.\n",
            "\n",
            "The Spaniard believed he was talking to Real Madrid sporting director Emilio Butragueno when he allegedly berated his team-mates as \"bad people\". \"I wish I was playing for Real Madrid,\" the 21-year-old told Cadena Cope. \"Hopefully it could happen. I love the way Madrid play. I'm not happy with the way things are.\" The striker joined the Gunners from Seville for Â£17m at the start of 2004, but it has frequently been reported that he is homesick. He began the season in superb form but has struggled to maintain his high standards as Arsenal have gradually lost the Premiership initiative to Manchester United and Chelsea. \"If I'm not (playing for Real) I'm going to have to carry on playing with some bad people,\" he added.\n",
            "\n",
            "\"I'm sure there are none in the Real dressing room. \"I'm happy Madrid is interested in me because it has always been my dream since I was little to play there.\" Before the story surfaced, Reyes had moved to play down reports linking him with the Spanish giants, issuing a statement through Arsenal describing the speculation as \"flattering\". \"I have seen the stories in the media linking me with Real Madrid,\" he had said on Thursday lunchtime. \"But not only am I under contract at Arsenal, I am happy here and committed to helping the team win more trophies.\" Butragueno, meanwhile, was angry at being impersonated by the radio disc jockey. \"It is a disgrace, there is no foundation to this,\" he said. \"He is an Arsenal player and we have to be respectful. We have to be careful because of the rumours that appear in the news.\"\n"
          ]
        }
      ]
    },
    {
      "cell_type": "markdown",
      "source": [
        "## Topic Modelling"
      ],
      "metadata": {
        "id": "IoAo7SDK200x"
      }
    },
    {
      "cell_type": "code",
      "source": [
        "from sklearn.feature_extraction.text import TfidfVectorizer\n",
        "from sklearn.decomposition import NMF"
      ],
      "metadata": {
        "id": "yjW02ggD2yZG"
      },
      "execution_count": 4,
      "outputs": []
    },
    {
      "cell_type": "code",
      "source": [
        "tfidf = TfidfVectorizer(max_df=0.95, min_df=2, stop_words='english')\n",
        "\n",
        "tm = tfidf.fit_transform(texts)"
      ],
      "metadata": {
        "id": "FeYwmEZ24Giz"
      },
      "execution_count": 5,
      "outputs": []
    },
    {
      "cell_type": "code",
      "source": [
        "tm"
      ],
      "metadata": {
        "colab": {
          "base_uri": "https://localhost:8080/"
        },
        "id": "oEK33RM44g8T",
        "outputId": "de72a26a-a480-4a3f-a25a-0c688ea84274"
      },
      "execution_count": 6,
      "outputs": [
        {
          "output_type": "execute_result",
          "data": {
            "text/plain": [
              "<Compressed Sparse Row sparse matrix of dtype 'float64'\n",
              "\twith 89578 stored elements and shape (737, 7585)>"
            ]
          },
          "metadata": {},
          "execution_count": 6
        }
      ]
    },
    {
      "cell_type": "markdown",
      "source": [
        "#### Non-Negative Matrix Factorization (NMF)"
      ],
      "metadata": {
        "id": "UWIA8wGb4mPt"
      }
    },
    {
      "cell_type": "code",
      "source": [
        "from sklearn.decomposition import NMF"
      ],
      "metadata": {
        "id": "-ftXdTXy4iDL"
      },
      "execution_count": 7,
      "outputs": []
    },
    {
      "cell_type": "code",
      "source": [
        "nmf = NMF(n_components=7, random_state=42)\n",
        "nmf_topics = nmf.fit_transform(tm)"
      ],
      "metadata": {
        "id": "0TwqojSo4zpG"
      },
      "execution_count": 8,
      "outputs": []
    },
    {
      "cell_type": "code",
      "source": [
        "len(tfidf.get_feature_names_out())"
      ],
      "metadata": {
        "colab": {
          "base_uri": "https://localhost:8080/"
        },
        "id": "wKt-Xd5_7sq9",
        "outputId": "d17fdaff-29a8-46fe-981d-79eb7c303c66"
      },
      "execution_count": 9,
      "outputs": [
        {
          "output_type": "execute_result",
          "data": {
            "text/plain": [
              "7585"
            ]
          },
          "metadata": {},
          "execution_count": 9
        }
      ]
    },
    {
      "cell_type": "code",
      "source": [
        "len(nmf.components_)"
      ],
      "metadata": {
        "colab": {
          "base_uri": "https://localhost:8080/"
        },
        "id": "WLs2nE5G8UxR",
        "outputId": "bc3dedc4-1de5-4fd3-9c16-6fb7a3121491"
      },
      "execution_count": 10,
      "outputs": [
        {
          "output_type": "execute_result",
          "data": {
            "text/plain": [
              "7"
            ]
          },
          "metadata": {},
          "execution_count": 10
        }
      ]
    },
    {
      "cell_type": "code",
      "source": [
        "nmf.components_"
      ],
      "metadata": {
        "colab": {
          "base_uri": "https://localhost:8080/"
        },
        "id": "Jy6uSHK97zWY",
        "outputId": "a41e87c8-fa7e-400b-b3f2-6d7c6795f4ca"
      },
      "execution_count": 11,
      "outputs": [
        {
          "output_type": "execute_result",
          "data": {
            "text/plain": [
              "array([[1.04851557e-04, 1.28832329e-02, 0.00000000e+00, ...,\n",
              "        1.09784103e-04, 3.76198787e-02, 6.45793844e-04],\n",
              "       [0.00000000e+00, 3.82897721e-02, 0.00000000e+00, ...,\n",
              "        1.38506143e-02, 0.00000000e+00, 0.00000000e+00],\n",
              "       [0.00000000e+00, 1.72061157e-02, 0.00000000e+00, ...,\n",
              "        5.67738901e-03, 0.00000000e+00, 1.88904445e-02],\n",
              "       ...,\n",
              "       [8.24373021e-04, 4.28158325e-03, 0.00000000e+00, ...,\n",
              "        3.03517635e-05, 5.39266928e-05, 0.00000000e+00],\n",
              "       [6.48773142e-03, 1.42186564e-02, 1.71793208e-01, ...,\n",
              "        1.63484291e-03, 2.94534046e-05, 0.00000000e+00],\n",
              "       [2.81282131e-05, 1.15939509e-03, 0.00000000e+00, ...,\n",
              "        8.98361623e-05, 3.15015332e-03, 0.00000000e+00]])"
            ]
          },
          "metadata": {},
          "execution_count": 11
        }
      ]
    },
    {
      "cell_type": "code",
      "source": [
        "for index,topic in enumerate(nmf.components_):\n",
        "  print(f'The top 10 words for topic #{index}')\n",
        "  print([tfidf.get_feature_names_out()[i] for i in topic.argsort()[-10:]])\n",
        "  print('*\\n')"
      ],
      "metadata": {
        "colab": {
          "base_uri": "https://localhost:8080/"
        },
        "id": "r6LYzbTn8gNR",
        "outputId": "0ca3cbfd-5451-4742-c0e4-5e1c5524af7f"
      },
      "execution_count": 12,
      "outputs": [
        {
          "output_type": "stream",
          "name": "stdout",
          "text": [
            "The top 10 words for topic #0\n",
            "['game', 'scotland', 'half', 'rugby', 'france', 'nations', 'robinson', 'ireland', 'wales', 'england']\n",
            "*\n",
            "\n",
            "The top 10 words for topic #1\n",
            "['khan', 'zealand', 'tour', 'day', 'series', 'test', 'australia', 'cricket', 'india', 'pakistan']\n",
            "*\n",
            "\n",
            "The top 10 words for topic #2\n",
            "['beat', 'agassi', 'final', 'hewitt', 'set', 'australian', 'federer', 'roddick', 'seed', 'open']\n",
            "*\n",
            "\n",
            "The top 10 words for topic #3\n",
            "['champions', 'cup', 'said', 'mourinho', 'club', 'liverpool', 'united', 'league', 'arsenal', 'chelsea']\n",
            "*\n",
            "\n",
            "The top 10 words for topic #4\n",
            "['tests', 'charges', 'olympics', 'doping', 'athens', 'drugs', 'iaaf', 'greek', 'thanou', 'kenteris']\n",
            "*\n",
            "\n",
            "The top 10 words for topic #5\n",
            "['championships', '60m', 'record', 'champion', 'european', 'world', 'holmes', 'olympic', 'race', 'indoor']\n",
            "*\n",
            "\n",
            "The top 10 words for topic #6\n",
            "['andrew', 'boje', 'flintoff', 'trescothick', 'jones', 'strauss', 'vaughan', 'africa', 'england', 'south']\n",
            "*\n",
            "\n"
          ]
        }
      ]
    },
    {
      "cell_type": "code",
      "source": [
        "from collections import defaultdict\n",
        "\n",
        "category_docs = defaultdict(list)\n",
        "for text, label in zip(texts, labels):\n",
        "    category_docs[label].append(text)"
      ],
      "metadata": {
        "id": "kp7U9NbG9xBx"
      },
      "execution_count": 13,
      "outputs": []
    },
    {
      "cell_type": "code",
      "source": [
        "def extract_topics(texts, n_topics=5, top_n_words=10):\n",
        "    vectorizer = TfidfVectorizer(max_df=0.95, min_df=2, stop_words='english')\n",
        "    tfidf = vectorizer.fit_transform(texts)\n",
        "\n",
        "    nmf = NMF(n_components=n_topics, random_state=42)\n",
        "    nmf_topics = nmf.fit_transform(tfidf)\n",
        "\n",
        "    feature_names = vectorizer.get_feature_names_out()\n",
        "    topics = []\n",
        "    for topic_idx, topic in enumerate(nmf.components_):\n",
        "        top_words = [feature_names[i] for i in topic.argsort()[:-top_n_words - 1:-1]]\n",
        "        topics.append(top_words)\n",
        "    return topics"
      ],
      "metadata": {
        "id": "iigY2tZJ9yTU"
      },
      "execution_count": 14,
      "outputs": []
    },
    {
      "cell_type": "code",
      "source": [
        "list(category_docs)"
      ],
      "metadata": {
        "colab": {
          "base_uri": "https://localhost:8080/"
        },
        "id": "dLV3ZGhX-bqA",
        "outputId": "dd409400-6064-4f7a-d32b-c37ccf45833a"
      },
      "execution_count": 15,
      "outputs": [
        {
          "output_type": "execute_result",
          "data": {
            "text/plain": [
              "['football', 'cricket', 'athletics', 'rugby', 'tennis']"
            ]
          },
          "metadata": {},
          "execution_count": 15
        }
      ]
    },
    {
      "cell_type": "code",
      "source": [
        "tennis_topics = extract_topics(category_docs[\"tennis\"], n_topics=2, top_n_words=10)\n",
        "for i, topic in enumerate(tennis_topics):\n",
        "    print(f\"Tennis Sub-category {i+1}: {', '.join(topic)}\")"
      ],
      "metadata": {
        "colab": {
          "base_uri": "https://localhost:8080/"
        },
        "id": "-BvkyeJK-Mk-",
        "outputId": "dae37077-5f1e-4dc3-fbb2-3092c452641b"
      },
      "execution_count": 16,
      "outputs": [
        {
          "output_type": "stream",
          "name": "stdout",
          "text": [
            "Tennis Sub-category 1: seed, set, federer, match, agassi, final, hewitt, second, win, williams\n",
            "Tennis Sub-category 2: cup, davis, moya, year, said, open, roddick, tennis, murray, injury\n"
          ]
        }
      ]
    },
    {
      "cell_type": "markdown",
      "source": [
        "# Named Entity Recongnition"
      ],
      "metadata": {
        "id": "ETjlHYje_WFz"
      }
    },
    {
      "cell_type": "code",
      "source": [
        "from transformers import pipeline\n",
        "\n",
        "ner = pipeline(\"ner\", model=\"dbmdz/bert-large-cased-finetuned-conll03-english\", aggregation_strategy=\"simple\")\n",
        "\n",
        "def extract_person_and_job(text):\n",
        "    entities = ner(text)\n",
        "    persons = [e for e in entities if e['entity_group'] == 'PER']\n",
        "    # Simple pattern: Find \"Person, Job\" in text\n",
        "    results = []\n",
        "    for person in persons:\n",
        "        start, end = person['start'], person['end']\n",
        "        # Look for \", JOB\" after the name, up to 40 chars ahead\n",
        "        tail = text[end:end+40]\n",
        "        import re\n",
        "        match = re.search(r', ([\\w\\s]+)[\\.,]', tail)\n",
        "        job = match.group(1).strip() if match else None\n",
        "        results.append({\"name\": person['word'], \"job\": job})\n",
        "    return results"
      ],
      "metadata": {
        "colab": {
          "base_uri": "https://localhost:8080/",
          "height": 339,
          "referenced_widgets": [
            "1913c832276542e09731ff55b005e5fa",
            "74c7ba4929e0492f835cc0b00afc2b19",
            "8590cb63e7154935a3adadb7029d5047",
            "f7acb7294a0e4817bfb112a4b172177f",
            "82d7d187b6a64ef888c50507d3df968b",
            "b3ef90e2e9044ef684986cef4b9e8995",
            "1249483a9d254e0fa05bdcf63f36e2df",
            "28ff0cdff1cd4d90a23e26a146890ed1",
            "7009bd869af84f2ab496fcad3db4beff",
            "8ce5d1cb9a9045a2a90bc2c0e8bfe375",
            "8d6e2566c86346b2896579f26e347042",
            "c2709afd22044e0084a03fdc83326bac",
            "dbb51919558b497981f127e1e60d2d84",
            "3fcf038280454da895403404998743cb",
            "b11514640a474929a2aa850f8110a1fa",
            "589d1491cdea4b009fd2f4f8d11f804b",
            "d4a9aeeef33f4b778e223280ea49a392",
            "6d9e27b5dfd84b7eb6b74e71e9d379d3",
            "befe7b6d12d342cbbc766efb733c5fc9",
            "f1e8904808f141bfad381fba6c3c1aeb",
            "9fe8096ccccf46999fe84882f118a16b",
            "cdc8c0a618ce4fe186f4a2ae0637766b",
            "874f5eb89df54a289954d6391dc8380f",
            "82cbeac7cff24e8091e64f88f5ee514b",
            "932d5d2f03474ed8bc8ebbed323937f3",
            "0aa5eb02740245fca2c37472fc1f472f",
            "a40652205f084d079fd22562dee7562a",
            "7b5e50f8973149c197b135027890167a",
            "c1f90958487e48fbb545788d765e7c53",
            "f1eb354725964fccbbb833c9758cb0a7",
            "835c5e2554ed4161a247894596d35e65",
            "0def60becda14b0eb468899bc98ddb22",
            "da44dcd2fad94fdd92c788aff342bc87",
            "40be1d8b3fa74f9195d48a9450249daf",
            "c4d6d18fdd2a4f389dcabac214507530",
            "00c7bd59f684410bb5b929ca719a911d",
            "7d95c2cd50cb4e8f9299a23ea61d1cc9",
            "7e76b750908c4334b15e5d977b912753",
            "941e26cf66504f32aa3b263e5d23763c",
            "e7a9e937b1f64604bdec5b6820e92e99",
            "5626143e3ff64e239eea21a2e4f3cf06",
            "87ca08a8ffb44354955954987f903ae7",
            "7a7f9baf5c37422fad30015e85bbd0fb",
            "edf6f24818064011a55663a97160c085"
          ]
        },
        "id": "uN22MmS-FrMo",
        "outputId": "c5767066-b33f-4e7c-ae72-4c57ba64d1dd"
      },
      "execution_count": 17,
      "outputs": [
        {
          "output_type": "stream",
          "name": "stderr",
          "text": [
            "/usr/local/lib/python3.11/dist-packages/huggingface_hub/utils/_auth.py:94: UserWarning: \n",
            "The secret `HF_TOKEN` does not exist in your Colab secrets.\n",
            "To authenticate with the Hugging Face Hub, create a token in your settings tab (https://huggingface.co/settings/tokens), set it as secret in your Google Colab and restart your session.\n",
            "You will be able to reuse this secret in all of your notebooks.\n",
            "Please note that authentication is recommended but still optional to access public models or datasets.\n",
            "  warnings.warn(\n"
          ]
        },
        {
          "output_type": "display_data",
          "data": {
            "text/plain": [
              "config.json:   0%|          | 0.00/998 [00:00<?, ?B/s]"
            ],
            "application/vnd.jupyter.widget-view+json": {
              "version_major": 2,
              "version_minor": 0,
              "model_id": "1913c832276542e09731ff55b005e5fa"
            }
          },
          "metadata": {}
        },
        {
          "output_type": "display_data",
          "data": {
            "text/plain": [
              "model.safetensors:   0%|          | 0.00/1.33G [00:00<?, ?B/s]"
            ],
            "application/vnd.jupyter.widget-view+json": {
              "version_major": 2,
              "version_minor": 0,
              "model_id": "c2709afd22044e0084a03fdc83326bac"
            }
          },
          "metadata": {}
        },
        {
          "output_type": "stream",
          "name": "stderr",
          "text": [
            "Some weights of the model checkpoint at dbmdz/bert-large-cased-finetuned-conll03-english were not used when initializing BertForTokenClassification: ['bert.pooler.dense.bias', 'bert.pooler.dense.weight']\n",
            "- This IS expected if you are initializing BertForTokenClassification from the checkpoint of a model trained on another task or with another architecture (e.g. initializing a BertForSequenceClassification model from a BertForPreTraining model).\n",
            "- This IS NOT expected if you are initializing BertForTokenClassification from the checkpoint of a model that you expect to be exactly identical (initializing a BertForSequenceClassification model from a BertForSequenceClassification model).\n"
          ]
        },
        {
          "output_type": "display_data",
          "data": {
            "text/plain": [
              "tokenizer_config.json:   0%|          | 0.00/60.0 [00:00<?, ?B/s]"
            ],
            "application/vnd.jupyter.widget-view+json": {
              "version_major": 2,
              "version_minor": 0,
              "model_id": "874f5eb89df54a289954d6391dc8380f"
            }
          },
          "metadata": {}
        },
        {
          "output_type": "display_data",
          "data": {
            "text/plain": [
              "vocab.txt: 0.00B [00:00, ?B/s]"
            ],
            "application/vnd.jupyter.widget-view+json": {
              "version_major": 2,
              "version_minor": 0,
              "model_id": "40be1d8b3fa74f9195d48a9450249daf"
            }
          },
          "metadata": {}
        },
        {
          "output_type": "stream",
          "name": "stderr",
          "text": [
            "Device set to use cuda:0\n"
          ]
        }
      ]
    },
    {
      "cell_type": "code",
      "source": [
        "results = [extract_person_and_job(text) for text in category_docs[\"tennis\"]]\n",
        "print(results[:20])"
      ],
      "metadata": {
        "colab": {
          "base_uri": "https://localhost:8080/"
        },
        "id": "_twWSSxeGNMB",
        "outputId": "e619220d-2d35-4676-ee6f-3266baae6c7c"
      },
      "execution_count": 18,
      "outputs": [
        {
          "output_type": "stream",
          "name": "stderr",
          "text": [
            "You seem to be using the pipelines sequentially on GPU. In order to maximize efficiency please use a dataset\n"
          ]
        },
        {
          "output_type": "stream",
          "name": "stdout",
          "text": [
            "[[{'name': 'Ed', 'job': None}, {'name': 'Agassi', 'job': None}, {'name': 'Dent Andre Agassi', 'job': None}, {'name': 'Taylor Dent', 'job': None}, {'name': 'Agassi', 'job': None}, {'name': 'Agassi', 'job': None}, {'name': 'Mario Ancic', 'job': None}, {'name': 'Ancic', 'job': None}, {'name': 'Safin', 'job': None}, {'name': 'Safin', 'job': None}, {'name': 'Safin', 'job': None}, {'name': 'Ancic', 'job': None}, {'name': 'Jarkko Nieminen', 'job': None}, {'name': 'Ni', 'job': None}, {'name': '##inen', 'job': None}, {'name': 'Federer', 'job': None}, {'name': 'Tommy Robredo', 'job': None}, {'name': 'Federer', 'job': None}], [{'name': 'Roche', 'job': None}, {'name': 'Federer', 'job': None}, {'name': 'Tony Roche', 'job': None}, {'name': 'Roger Federer', 'job': None}, {'name': 'Roche', 'job': 'troubled by a hip complaint'}, {'name': 'Roche', 'job': None}, {'name': 'Federer', 'job': None}, {'name': 'Peter Lundgren', 'job': None}, {'name': 'Roche', 'job': None}, {'name': 'John Newcombe', 'job': None}, {'name': 'Ivan Lendl', 'job': None}, {'name': 'Pat Rafter', 'job': None}, {'name': 'Lleyton Hewitt', 'job': None}, {'name': 'Federer', 'job': None}, {'name': 'Andre Agassi', 'job': None}, {'name': 'Darren Cahill', 'job': None}, {'name': 'Agassi', 'job': None}, {'name': 'Federer', 'job': None}], [{'name': 'Henman', 'job': None}, {'name': 'Tim Henman', 'job': None}, {'name': 'David Nalbandian', 'job': None}, {'name': 'Roger Federer', 'job': None}, {'name': 'Gaston Gaudio', 'job': None}, {'name': 'Andre Agassi', 'job': None}, {'name': 'Nicolas Massu', 'job': None}, {'name': 'Andy Roddick', 'job': None}, {'name': 'Ivan Ljubicic', 'job': 'who replaced Paradorn Srichaphan'}, {'name': 'Paradorn Srichaphan', 'job': None}, {'name': 'Henman', 'job': None}, {'name': 'Nalbandian', 'job': None}, {'name': 'Henman', 'job': None}, {'name': 'David', 'job': None}, {'name': 'Henman', 'job': None}, {'name': 'Henman', 'job': None}, {'name': 'Federer', 'job': None}, {'name': 'G', 'job': 'but was content with his game'}, {'name': '##io', 'job': 'but was content with his game'}, {'name': 'Doha', 'job': 'my timing was OK'}, {'name': 'All', 'job': None}, {'name': 'A', 'job': None}, {'name': '##si', 'job': None}, {'name': 'Mass', 'job': None}], [{'name': 'Sharapova', 'job': None}, {'name': 'Maria Sharapova', 'job': None}, {'name': 'Alicia Molik', 'job': None}, {'name': 'Molik', 'job': None}, {'name': 'Amelie Mauresmo', 'job': None}, {'name': 'Sharapova', 'job': None}, {'name': 'Sharapova', 'job': None}, {'name': 'Molik', 'job': None}, {'name': 'Sharapova', 'job': None}, {'name': 'Molik', 'job': None}, {'name': 'Sharapova', 'job': None}, {'name': 'Sharapova', 'job': None}, {'name': 'Alicia', 'job': None}, {'name': 'Sharapova', 'job': None}, {'name': 'Sharapova', 'job': None}], [{'name': 'Moya', 'job': None}, {'name': 'Carlos Moya', 'job': None}, {'name': 'Andy Roddick', 'job': None}, {'name': 'Moya', 'job': None}, {'name': 'Roddick', 'job': None}, {'name': 'Moya', 'job': None}, {'name': 'Moya', 'job': 'nicknamed Charly'}, {'name': 'Charly', 'job': None}, {'name': 'Jordi Arrese', 'job': None}, {'name': 'Charly', 'job': None}, {'name': 'Roddick', 'job': 'and this was his day to beat him'}, {'name': 'Rafael Nadal', 'job': None}, {'name': 'Roddick', 'job': None}, {'name': 'Nadal', 'job': None}, {'name': 'Patrick McEnroe', 'job': None}, {'name': 'Roddick', 'job': None}, {'name': 'Roddick', 'job': None}], [{'name': 'Federer', 'job': None}, {'name': 'Roger Federer', 'job': None}, {'name': 'Mats Wilander', 'job': None}, {'name': 'Anastasia Myskina', 'job': None}, {'name': 'Tim Henman', 'job': None}, {'name': 'Greg Rusedski', 'job': None}, {'name': 'Federer', 'job': None}, {'name': 'Marat Safin', 'job': None}, {'name': 'Andy Roddick', 'job': None}, {'name': 'Federer', 'job': None}, {'name': 'Lleyton Hewitt', 'job': None}, {'name': 'Federer', 'job': None}, {'name': 'Hewitt', 'job': None}, {'name': 'Gustavo Kuerten', 'job': None}, {'name': 'Roland Garros', 'job': None}, {'name': 'Tomas Berdych', 'job': None}, {'name': 'Nicoals Massu', 'job': None}, {'name': 'Fernando Gonzaelz', 'job': None}, {'name': 'Federer', 'job': None}, {'name': 'Roddick', 'job': None}, {'name': 'Rafael Nadal', 'job': None}, {'name': 'Carlos Moya', 'job': None}, {'name': 'He', 'job': None}, {'name': 'Mario An', 'job': None}, {'name': 'R', 'job': None}, {'name': '##ski', 'job': None}], [{'name': 'Roddick', 'job': None}, {'name': 'Gilbert Andy Roddick', 'job': None}, {'name': 'Brad Gilbert', 'job': None}, {'name': 'Roddick', 'job': None}, {'name': 'Brad Gilbert', 'job': None}, {'name': 'Roddick', 'job': None}, {'name': 'Roddick', 'job': None}, {'name': 'Gilbert', 'job': None}, {'name': 'Roddick', 'job': None}, {'name': 'Roger Federer', 'job': None}, {'name': 'Federer', 'job': None}, {'name': 'Peter Lundgren', 'job': None}, {'name': 'Roddick', 'job': None}, {'name': 'Roddick', 'job': None}, {'name': 'Gilbert', 'job': None}, {'name': 'Tarik Benhabiles', 'job': None}, {'name': 'Andy', 'job': None}, {'name': 'Gilbert', 'job': None}, {'name': 'Andy', 'job': None}], [{'name': 'Almagro', 'job': None}, {'name': 'Nicolas Almagro', 'job': None}, {'name': 'Mariano Zabaleta', 'job': None}, {'name': 'Rafael Nadal', 'job': None}, {'name': 'Potito Starace', 'job': None}, {'name': 'Nadal', 'job': None}, {'name': 'Starace', 'job': None}, {'name': 'Nadal', 'job': None}, {'name': 'Gaston Gaudio', 'job': None}, {'name': 'Flavio Saretta', 'job': None}], [{'name': 'Daniela Hantuchova', 'job': None}, {'name': 'Michaella Krajicek', 'job': None}, {'name': 'Peter Wessels', 'job': None}, {'name': 'Dominik Hrbaty', 'job': None}, {'name': 'Wessels', 'job': None}, {'name': 'Meghann Shaughnessy', 'job': None}, {'name': 'Alicia Molik', 'job': None}, {'name': 'James Blake', 'job': None}, {'name': 'Paul Baccanello', 'job': None}, {'name': 'Mark Philippoussis', 'job': None}, {'name': 'Blake', 'job': None}, {'name': 'Shaughnessy', 'job': None}, {'name': 'Molik', 'job': None}, {'name': 'Baccanello', 'job': None}, {'name': 'Hantuchova', 'job': None}, {'name': 'Dominik', 'job': None}], [{'name': 'Hewitt', 'job': None}, {'name': 'Nalband', 'job': None}, {'name': 'Lleyton Hewitt', 'job': None}, {'name': 'David Nalbandian', 'job': None}, {'name': 'Hewitt', 'job': None}, {'name': 'Nalbandian', 'job': None}, {'name': 'Hewitt', 'job': None}, {'name': 'Andy Roddick', 'job': None}, {'name': 'Roger Federer', 'job': None}, {'name': 'Marat Safin', 'job': None}, {'name': 'Nalbandian', 'job': None}, {'name': 'Hewitt', 'job': None}, {'name': 'Hewitt', 'job': None}, {'name': 'Hewitt', 'job': None}, {'name': 'Hewitt', 'job': None}, {'name': 'Nalbandian', 'job': None}, {'name': 'Hewitt', 'job': None}], [{'name': 'Roddick', 'job': None}, {'name': 'Andy Roddick', 'job': None}, {'name': 'Dean Goldfine', 'job': None}, {'name': 'Roddick', 'job': None}, {'name': 'Brad Gilbert', 'job': None}, {'name': 'Goldfine', 'job': None}, {'name': 'Goldfine', 'job': None}, {'name': 'Goldfine', 'job': None}, {'name': 'Andy', 'job': None}, {'name': 'Goldfine', 'job': '39'}, {'name': 'Todd Martin', 'job': None}, {'name': 'Roddick', 'job': None}, {'name': 'Mardy Fish', 'job': None}, {'name': 'Martin', 'job': None}, {'name': 'Roddick', 'job': None}], [{'name': 'Philippoussis', 'job': None}, {'name': 'Mark Philippoussis', 'job': None}, {'name': 'Hamish Osborne', 'job': None}, {'name': 'Mark', 'job': None}, {'name': 'Tommy Haas', 'job': None}, {'name': 'Guillermo Coria', 'job': None}], [{'name': 'Melzer', 'job': None}, {'name': 'Agassi', 'job': None}, {'name': 'Andre Agassi', 'job': None}, {'name': 'Jurgen Melzer', 'job': None}, {'name': 'Agassi', 'job': None}, {'name': 'Andy Roddick', 'job': None}, {'name': 'Thomas Enqvist', 'job': None}, {'name': 'Cyril Saulnier', 'job': None}, {'name': 'Vincent Spadea', 'job': None}, {'name': 'Tommy Haas', 'job': None}, {'name': 'Max Mirnyi', 'job': None}, {'name': 'Melzer', 'job': None}, {'name': 'Agassi', 'job': None}, {'name': 'Andre', 'job': None}, {'name': 'Agassi', 'job': None}, {'name': 'Melzer', 'job': None}, {'name': 'Agassi', 'job': None}], [{'name': 'Andrew Murray', 'job': None}, {'name': 'Jeremy', 'job': None}, {'name': 'Bates', 'job': None}, {'name': 'Murray', 'job': None}, {'name': 'Greg Rusedski', 'job': 'Arvind Parmar'}, {'name': 'Arvind Parmar', 'job': None}, {'name': 'David Sherwood', 'job': None}, {'name': 'Alex Bogdanovic', 'job': None}, {'name': 'Murray', 'job': None}, {'name': 'Bates', 'job': None}], [{'name': 'Henman', 'job': None}, {'name': 'Murray', 'job': None}, {'name': 'Tim Henman', 'job': None}, {'name': 'Andrew Murray', 'job': None}, {'name': 'Peter Norfolk', 'job': None}, {'name': 'Henman', 'job': None}, {'name': 'Roger Federer', 'job': 'Andy Roddick and Andre Agassi'}, {'name': 'Andy Roddick', 'job': None}, {'name': 'Andre Agassi', 'job': None}, {'name': 'Henman', 'job': None}], [{'name': 'Hewitt', 'job': None}, {'name': 'Lleyton Hewitt', 'job': None}, {'name': 'Andy Roddick', 'job': None}, {'name': 'Marat Safin', 'job': None}, {'name': 'Hewitt', 'job': None}, {'name': 'Mark Edmondson', 'job': None}, {'name': 'Hewitt', 'job': None}, {'name': 'Pat Cash', 'job': None}, {'name': 'Mats Wilander', 'job': None}, {'name': 'Safin', 'job': None}, {'name': 'Roger Federer', 'job': None}, {'name': 'Hewitt', 'job': None}, {'name': 'Roddick', 'job': None}, {'name': 'Hewitt', 'job': None}, {'name': 'Roddick', 'job': None}, {'name': 'Hewitt', 'job': None}, {'name': 'Roddick', 'job': None}, {'name': 'Hewitt', 'job': None}, {'name': 'Roddick', 'job': None}, {'name': 'Hewitt', 'job': None}, {'name': 'Hewitt', 'job': None}, {'name': 'Roddick', 'job': None}, {'name': 'Roddick', 'job': None}], [{'name': 'Lleyton Hewitt', 'job': None}, {'name': 'Hewitt', 'job': None}, {'name': 'Geoff Pollard', 'job': None}, {'name': 'Hewitt', 'job': None}, {'name': 'Pollard', 'job': None}, {'name': 'Hewitt', 'job': None}, {'name': 'Lleyton', 'job': None}, {'name': 'Lleyton', 'job': None}, {'name': 'Roger Federer', 'job': None}], [{'name': 'Connors', 'job': None}, {'name': 'Jimmy Connors', 'job': None}, {'name': 'Lleyton Hewitt', 'job': None}, {'name': 'Connors', 'job': None}, {'name': 'Connors', 'job': None}, {'name': 'John McEnroe', 'job': None}, {'name': 'Connors', 'job': None}, {'name': 'David Felgate', 'job': None}, {'name': 'Connors', 'job': None}, {'name': 'David', 'job': None}, {'name': 'Connor', 'job': None}], [{'name': 'Federer', 'job': None}, {'name': 'Roger Federer', 'job': None}, {'name': 'Ivan Ljubicic', 'job': None}, {'name': 'Ljubicic', 'job': None}, {'name': 'Federer', 'job': None}, {'name': 'Federer', 'job': None}, {'name': 'Federer', 'job': None}], [{'name': 'Clijsters', 'job': None}, {'name': 'Kim Clijsters', 'job': None}, {'name': 'Paul McNamee', 'job': None}, {'name': 'Kim', 'job': None}, {'name': 'Clijsters', 'job': None}, {'name': 'Clijsters', 'job': None}, {'name': 'Jelena Dokic', 'job': 'who used to compete for Australia'}, {'name': 'Dokic', 'job': None}, {'name': 'Monica Seles', 'job': None}]]\n"
          ]
        }
      ]
    },
    {
      "cell_type": "code",
      "source": [
        "import spacy\n",
        "nlp = spacy.load(\"en_core_web_sm\")\n",
        "def spacy_job_title_extract(text):\n",
        "    doc = nlp(text)\n",
        "    results = []\n",
        "    for ent in doc.ents:\n",
        "        if ent.label_ == \"PERSON\":\n",
        "            for token in ent.root.children:\n",
        "                if token.dep_ == \"appos\":\n",
        "                    results.append({\"name\": ent.text, \"job\": token.text})\n",
        "    return results"
      ],
      "metadata": {
        "id": "JyNxv6UxIWxX"
      },
      "execution_count": 19,
      "outputs": []
    },
    {
      "cell_type": "code",
      "source": [
        "results2 = [spacy_job_title_extract(text) for text in category_docs[\"tennis\"]]\n",
        "print(results2[:20])"
      ],
      "metadata": {
        "colab": {
          "base_uri": "https://localhost:8080/"
        },
        "id": "WBlBou6mIZKr",
        "outputId": "45404ac5-4bba-4f94-cf65-fbafc89914f7"
      },
      "execution_count": 20,
      "outputs": [
        {
          "output_type": "stream",
          "name": "stdout",
          "text": [
            "[[{'name': 'Tommy Robredo', 'job': '7'}], [], [{'name': 'Paradorn Srichaphan', 'job': '6'}, {'name': 'Paradorn Srichaphan', 'job': '6'}], [], [], [], [], [], [], [], [], [], [], [], [], [], [], [], [], []]\n"
          ]
        }
      ]
    },
    {
      "cell_type": "code",
      "source": [
        "results3 = [spacy_job_title_extract(text) for text in texts]\n",
        "print(results3[:20])"
      ],
      "metadata": {
        "colab": {
          "base_uri": "https://localhost:8080/"
        },
        "id": "bmrqSx2FIx-O",
        "outputId": "8613aa0b-6f0e-47aa-f6b9-d24e44fd8042"
      },
      "execution_count": 21,
      "outputs": [
        {
          "output_type": "stream",
          "name": "stdout",
          "text": [
            "[[], [], [], [], [{'name': 'Gordon Strachan', 'job': 'Burns'}], [], [], [], [], [], [], [], [], [], [], [{'name': 'Thomas', 'job': 'Kishishev'}, {'name': 'Luis Garcia', 'job': 'Potter'}, {'name': 'Riise', 'job': 'Warnock'}, {'name': 'Att', 'job': '27,102'}], [], [], [], [{'name': 'Mateja Kezman', 'job': 'scorer'}]]\n"
          ]
        }
      ]
    },
    {
      "cell_type": "code",
      "source": [
        "# Text Summarisation Model\n",
        "\n",
        "summarizer = pipeline(\"summarization\", model=\"facebook/bart-large-cnn\")\n",
        "sum = summarizer(texts[1], max_length=130, min_length=30, do_sample=False)\n",
        "print(sum)"
      ],
      "metadata": {
        "colab": {
          "base_uri": "https://localhost:8080/",
          "height": 264,
          "referenced_widgets": [
            "c497df2ceabb4820a2aa2ec0c169b5e2",
            "3deb23a292174727baa93659586927b9",
            "d728356cc57c4713af49de382abd1cab",
            "a800af7c3a9446e8a40c064b69e091bd",
            "6b6e7a0957544ee09e53bd7a47df2639",
            "b7baf4caf792414b9d3a54591c3115a6",
            "340a23fb707d45b6ae9facde81bfd84d",
            "95131bba20354d34b0a77e7f8fe886fd",
            "b43716a605d841d3bef29494f2033aa6",
            "2960424aadc54a8b8f2636c5be5aa75a",
            "20de34c8ccab41999c03949d7b8fb648",
            "ac7bc1fe9ab044fdaa7557816d93b11a",
            "e35970d6ce0844ccb49b1a2373a6bc06",
            "5377b7bb9c964ca4bcfca0b2df3b8301",
            "2a7fd4badcba4415bbbd121c5c9848d4",
            "85b22fa9ebaa42e59190884c9372d001",
            "31488af195354519815db3981772e96c",
            "dc5edf377c0a4f28b3b9f8c7f20a487a",
            "4d34650b985142aaacd48ad7c2a0b046",
            "4ebbb9b6b4ef42ef90fb643f87c8e5aa",
            "d5e6e07d807c48beb8f73eed87257636",
            "8da6f3397b66462080b2eac0e8dea99d",
            "cfa43bc93ed54cc8ba0ea14fa7e45a7a",
            "50e7d8bb552e42af9fba3681e8c3e7bd",
            "f9988d5a19de4bf6bb9e3eb7ae8c4e21",
            "67ac67105e0642c397741e0c7d3cdacf",
            "74af9d81e5584daab63f6a6131be4635",
            "fd730b5d1adf4c20a7e384173bd1dbc0",
            "dd076713978e4e9aa6e78c5c2dd7ebe0",
            "4bec779ae9e34ee0b269f436ebda1086",
            "359116f9f3884f678d04c94f9f90eefd",
            "0aa88c4327784eca8bb11142978bce46",
            "36b881f57aae40aa84008f23b8ac50b4",
            "f5f02789589b497bb30e331f1f7d4a29",
            "a4ff8210587a448283dd66ff6224a6fd",
            "3d9e14e9045e44ee94509521d9c28e6a",
            "378d3cd582bb46b388c812e54eef264b",
            "f3f7ec2ab8b64256b61721b7043224cd",
            "f9ac689c36ea4d12a501c4a0d19226f4",
            "9d6b3cd182164a35b7993e3942c24edd",
            "5d72ed7a07604503837a227415162815",
            "ed0465ef98ae4a5c9241bf64b6d173e6",
            "9bdcfb94cb5e40a5ab9ad3c4975fb22c",
            "c3ee659b35da4767af134bec5e7ede2b",
            "9b74549d443e46f7b1587a605fac0c2a",
            "1524506b587f496e8bf59c0c68ece2ac",
            "64083803501040dea96b03993298c1fd",
            "97f3fc433eec42dfa0aa5997f276498e",
            "1981da607cb24d23b3b17b866cd94ecf",
            "baa4db86c09c4e3ab4e4d711a24426be",
            "80a6bab67e724e20b9d5b895a4c97764",
            "cbf3cdda838848ba99b5b0c719e15966",
            "62600b56d6b44247ab1c125ce32d1c66",
            "1aa94ad9e3a540d8acd74fa37525a5a5",
            "2542342e93e8422192a2f6e9674065ec",
            "c5af566a6fe443b5b11a109a08bb6893",
            "cb9d48a3c99c4a48892d5e4817ea2196",
            "676304820b514506ae36e592cb1174e3",
            "e3d47e9d94a94d1890510e5accbfe0a2",
            "915306e0eae546ab8eef0fcc23a7c1c3",
            "988711fec26a4662953ff150ebaa069b",
            "62f672693d8c434dbbdd9739ebcd7691",
            "bd60b1c338ca4542b2834328554dbcfe",
            "9411227c0fee4aa995cf07c4c70a157c",
            "205419d764c24a0bb60b3385db5bea63",
            "20b6489ea48144ac90262ee3554dbc00"
          ]
        },
        "id": "wcdi4dc8JPBr",
        "outputId": "c35fb392-fdcb-4858-d9b0-0cbebcad99c7"
      },
      "execution_count": 22,
      "outputs": [
        {
          "output_type": "display_data",
          "data": {
            "text/plain": [
              "config.json: 0.00B [00:00, ?B/s]"
            ],
            "application/vnd.jupyter.widget-view+json": {
              "version_major": 2,
              "version_minor": 0,
              "model_id": "c497df2ceabb4820a2aa2ec0c169b5e2"
            }
          },
          "metadata": {}
        },
        {
          "output_type": "display_data",
          "data": {
            "text/plain": [
              "model.safetensors:   0%|          | 0.00/1.63G [00:00<?, ?B/s]"
            ],
            "application/vnd.jupyter.widget-view+json": {
              "version_major": 2,
              "version_minor": 0,
              "model_id": "ac7bc1fe9ab044fdaa7557816d93b11a"
            }
          },
          "metadata": {}
        },
        {
          "output_type": "display_data",
          "data": {
            "text/plain": [
              "generation_config.json:   0%|          | 0.00/363 [00:00<?, ?B/s]"
            ],
            "application/vnd.jupyter.widget-view+json": {
              "version_major": 2,
              "version_minor": 0,
              "model_id": "cfa43bc93ed54cc8ba0ea14fa7e45a7a"
            }
          },
          "metadata": {}
        },
        {
          "output_type": "display_data",
          "data": {
            "text/plain": [
              "vocab.json: 0.00B [00:00, ?B/s]"
            ],
            "application/vnd.jupyter.widget-view+json": {
              "version_major": 2,
              "version_minor": 0,
              "model_id": "f5f02789589b497bb30e331f1f7d4a29"
            }
          },
          "metadata": {}
        },
        {
          "output_type": "display_data",
          "data": {
            "text/plain": [
              "merges.txt: 0.00B [00:00, ?B/s]"
            ],
            "application/vnd.jupyter.widget-view+json": {
              "version_major": 2,
              "version_minor": 0,
              "model_id": "9b74549d443e46f7b1587a605fac0c2a"
            }
          },
          "metadata": {}
        },
        {
          "output_type": "display_data",
          "data": {
            "text/plain": [
              "tokenizer.json: 0.00B [00:00, ?B/s]"
            ],
            "application/vnd.jupyter.widget-view+json": {
              "version_major": 2,
              "version_minor": 0,
              "model_id": "c5af566a6fe443b5b11a109a08bb6893"
            }
          },
          "metadata": {}
        },
        {
          "output_type": "stream",
          "name": "stderr",
          "text": [
            "Device set to use cuda:0\n"
          ]
        },
        {
          "output_type": "stream",
          "name": "stdout",
          "text": [
            "[{'summary_text': 'Jose Antonio Reyes has added to speculation linking him with a move to Real Madrid. Spaniard believed he was talking to sporting director Emilio Butragueno when he allegedly berated his team-mates as \"bad people\" The 21-year-old joined Arsenal from Seville for Â£17m at the start of 2004.'}]\n"
          ]
        }
      ]
    },
    {
      "cell_type": "code",
      "source": [
        "print(texts[1])\n",
        "print('\\n')\n",
        "print(sum)"
      ],
      "metadata": {
        "colab": {
          "base_uri": "https://localhost:8080/"
        },
        "id": "knt8ZBueLGEp",
        "outputId": "2ca22b7a-64ad-4146-e436-577d53d0b3b9"
      },
      "execution_count": 23,
      "outputs": [
        {
          "output_type": "stream",
          "name": "stdout",
          "text": [
            "Reyes tricked into Real admission\n",
            "\n",
            "Jose Antonio Reyes has added to speculation linking him with a move from Arsenal to Real Madrid after falling victim to a radio prank.\n",
            "\n",
            "The Spaniard believed he was talking to Real Madrid sporting director Emilio Butragueno when he allegedly berated his team-mates as \"bad people\". \"I wish I was playing for Real Madrid,\" the 21-year-old told Cadena Cope. \"Hopefully it could happen. I love the way Madrid play. I'm not happy with the way things are.\" The striker joined the Gunners from Seville for Â£17m at the start of 2004, but it has frequently been reported that he is homesick. He began the season in superb form but has struggled to maintain his high standards as Arsenal have gradually lost the Premiership initiative to Manchester United and Chelsea. \"If I'm not (playing for Real) I'm going to have to carry on playing with some bad people,\" he added.\n",
            "\n",
            "\"I'm sure there are none in the Real dressing room. \"I'm happy Madrid is interested in me because it has always been my dream since I was little to play there.\" Before the story surfaced, Reyes had moved to play down reports linking him with the Spanish giants, issuing a statement through Arsenal describing the speculation as \"flattering\". \"I have seen the stories in the media linking me with Real Madrid,\" he had said on Thursday lunchtime. \"But not only am I under contract at Arsenal, I am happy here and committed to helping the team win more trophies.\" Butragueno, meanwhile, was angry at being impersonated by the radio disc jockey. \"It is a disgrace, there is no foundation to this,\" he said. \"He is an Arsenal player and we have to be respectful. We have to be careful because of the rumours that appear in the news.\"\n",
            "\n",
            "\n",
            "[{'summary_text': 'Jose Antonio Reyes has added to speculation linking him with a move to Real Madrid. Spaniard believed he was talking to sporting director Emilio Butragueno when he allegedly berated his team-mates as \"bad people\" The 21-year-old joined Arsenal from Seville for Â£17m at the start of 2004.'}]\n"
          ]
        }
      ]
    }
  ]
}