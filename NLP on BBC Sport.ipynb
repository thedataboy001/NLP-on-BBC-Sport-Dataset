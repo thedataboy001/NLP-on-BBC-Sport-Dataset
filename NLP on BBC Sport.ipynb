{
 "cells": [
  {
   "cell_type": "code",
   "execution_count": 1,
   "id": "26848509-aec2-441c-9026-b2de61b3625c",
   "metadata": {},
   "outputs": [],
   "source": [
    "import zipfile\n",
    "import os"
   ]
  },
  {
   "cell_type": "code",
   "execution_count": 2,
   "id": "d0419f69-2428-4677-bef8-5d7a76d433a5",
   "metadata": {},
   "outputs": [
    {
     "name": "stdout",
     "output_type": "stream",
     "text": [
      "Unzipping Complete\n"
     ]
    }
   ],
   "source": [
    "extract = \"bbcsport\"\n",
    "path = \"bbcsport-fulltext.zip\"\n",
    "\n",
    "with zipfile.ZipFile(path, 'r') as k:\n",
    "    k.extractall(extract)\n",
    "\n",
    "print('Unzipping Complete')"
   ]
  },
  {
   "cell_type": "code",
   "execution_count": 3,
   "id": "20d9ca90-9dd8-4c0f-9265-9700ff3b9c54",
   "metadata": {},
   "outputs": [
    {
     "name": "stdout",
     "output_type": "stream",
     "text": [
      "Loaded 737 documents.\n",
      "Sample label: {'cricket', 'athletics', 'football', 'tennis', 'rugby'}\n"
     ]
    }
   ],
   "source": [
    "import os\n",
    "from pathlib import Path\n",
    "\n",
    "newpath = 'bbcsport/bbcsport'\n",
    "\n",
    "data_dir = Path(newpath)\n",
    "\n",
    "texts = []\n",
    "labels = []\n",
    "\n",
    "for label in os.listdir(data_dir):\n",
    "  category_dir = data_dir / label\n",
    "  if category_dir.is_dir():\n",
    "    for file_path in category_dir.glob(\"*.txt\"):\n",
    "      with open(file_path, encoding='latin-1') as f:\n",
    "        text = f.read().strip()\n",
    "        texts.append(text)\n",
    "        labels.append(label)\n",
    "\n",
    "print(f\"Loaded {len(texts)} documents.\")\n",
    "print(\"Sample label:\", set(labels))"
   ]
  },
  {
   "cell_type": "code",
   "execution_count": 4,
   "id": "61e0b794-9925-48ee-ac4a-294e08a1d7b0",
   "metadata": {},
   "outputs": [
    {
     "name": "stdout",
     "output_type": "stream",
     "text": [
      "O'Sullivan could run in Worlds\n",
      "\n",
      "Sonia O'Sullivan has indicated that she would like to participate in next month's World Cross Country Championships in St Etienne.\n",
      "\n",
      "Athletics Ireland have hinted that the 35-year-old Cobh runner may be included in the official line-up for the event in France on 19-20 March. Provincial teams were selected after last Saturday's Nationals in Santry and will be officially announced this week. O'Sullivan is at present preparing for the London marathon on 17 April. The participation of O'Sullivan, currentily training at her base in Australia, would boost the Ireland team who won the bronze three years agio. The first three at Santry last Saturday, Jolene Byrne, Maria McCambridge and Fionnualla Britton, are automatic selections and will most likely form part of the long-course team. O'Sullivan will also take part in the Bupa Great Ireland Run on 9 April in Dublin.\n"
     ]
    }
   ],
   "source": [
    "print(texts[1])"
   ]
  },
  {
   "cell_type": "markdown",
   "id": "7f75a1fe-f4c3-402b-9ada-abde83af3edd",
   "metadata": {},
   "source": [
    "# Topic Modelling"
   ]
  },
  {
   "cell_type": "code",
   "execution_count": 5,
   "id": "7176268c-e4d4-4540-8f72-1dadb021ab0d",
   "metadata": {},
   "outputs": [],
   "source": [
    "import numpy as np\n",
    "import scipy\n",
    "import sklearn"
   ]
  },
  {
   "cell_type": "code",
   "execution_count": 6,
   "id": "bb1181d9-c3a8-42be-bc87-b4c4783e98df",
   "metadata": {},
   "outputs": [],
   "source": [
    "from sklearn.feature_extraction.text import TfidfVectorizer\n",
    "from sklearn.decomposition import NMF"
   ]
  },
  {
   "cell_type": "code",
   "execution_count": 7,
   "id": "701f624e-3cfc-47b6-bc12-0e9a58308c71",
   "metadata": {},
   "outputs": [],
   "source": [
    "tfidf = TfidfVectorizer(max_df=0.95, min_df=2, stop_words='english')\n",
    "\n",
    "tm = tfidf.fit_transform(texts)"
   ]
  },
  {
   "cell_type": "code",
   "execution_count": 8,
   "id": "15f0f74b",
   "metadata": {},
   "outputs": [
    {
     "data": {
      "text/plain": [
       "<737x7585 sparse matrix of type '<class 'numpy.float64'>'\n",
       "\twith 89578 stored elements in Compressed Sparse Row format>"
      ]
     },
     "execution_count": 8,
     "metadata": {},
     "output_type": "execute_result"
    }
   ],
   "source": [
    "tm"
   ]
  },
  {
   "cell_type": "markdown",
   "id": "da046930",
   "metadata": {},
   "source": [
    "### Non-Negative Matrix Factorization (NMF)"
   ]
  },
  {
   "cell_type": "code",
   "execution_count": 9,
   "id": "d5d5eb91",
   "metadata": {},
   "outputs": [],
   "source": [
    "nmf = NMF(n_components=7, random_state=42)\n",
    "nmf_topics = nmf.fit_transform(tm)"
   ]
  },
  {
   "cell_type": "code",
   "execution_count": 10,
   "id": "d9a681a8",
   "metadata": {},
   "outputs": [
    {
     "data": {
      "text/plain": [
       "7585"
      ]
     },
     "execution_count": 10,
     "metadata": {},
     "output_type": "execute_result"
    }
   ],
   "source": [
    "len(tfidf.get_feature_names_out())"
   ]
  },
  {
   "cell_type": "code",
   "execution_count": 11,
   "id": "31c361e1",
   "metadata": {},
   "outputs": [
    {
     "data": {
      "text/plain": [
       "7"
      ]
     },
     "execution_count": 11,
     "metadata": {},
     "output_type": "execute_result"
    }
   ],
   "source": [
    "len(nmf.components_)"
   ]
  },
  {
   "cell_type": "code",
   "execution_count": 12,
   "id": "8e35cddf",
   "metadata": {},
   "outputs": [
    {
     "data": {
      "text/plain": [
       "array([[1.04868538e-04, 1.28853388e-02, 0.00000000e+00, ...,\n",
       "        1.09820449e-04, 3.76257703e-02, 6.45892754e-04],\n",
       "       [0.00000000e+00, 3.82895295e-02, 0.00000000e+00, ...,\n",
       "        1.38505567e-02, 0.00000000e+00, 0.00000000e+00],\n",
       "       [0.00000000e+00, 1.71976168e-02, 0.00000000e+00, ...,\n",
       "        5.67458530e-03, 0.00000000e+00, 1.88810995e-02],\n",
       "       ...,\n",
       "       [8.24654126e-04, 4.28306227e-03, 0.00000000e+00, ...,\n",
       "        3.03647513e-05, 5.39445631e-05, 0.00000000e+00],\n",
       "       [6.48444276e-03, 1.42114494e-02, 1.71706133e-01, ...,\n",
       "        1.63401485e-03, 2.94297556e-05, 0.00000000e+00],\n",
       "       [2.81794437e-05, 1.16159926e-03, 0.00000000e+00, ...,\n",
       "        9.00240489e-05, 3.15600205e-03, 0.00000000e+00]])"
      ]
     },
     "execution_count": 12,
     "metadata": {},
     "output_type": "execute_result"
    }
   ],
   "source": [
    "nmf.components_"
   ]
  },
  {
   "cell_type": "code",
   "execution_count": 13,
   "id": "62cbd8dc",
   "metadata": {},
   "outputs": [
    {
     "name": "stdout",
     "output_type": "stream",
     "text": [
      "The top 10 words for topic #0\n",
      "['game', 'scotland', 'half', 'rugby', 'france', 'nations', 'robinson', 'ireland', 'wales', 'england']\n",
      "*\n",
      "\n",
      "The top 10 words for topic #1\n",
      "['khan', 'zealand', 'tour', 'day', 'series', 'test', 'australia', 'cricket', 'india', 'pakistan']\n",
      "*\n",
      "\n",
      "The top 10 words for topic #2\n",
      "['beat', 'agassi', 'final', 'hewitt', 'set', 'australian', 'federer', 'roddick', 'seed', 'open']\n",
      "*\n",
      "\n",
      "The top 10 words for topic #3\n",
      "['champions', 'cup', 'said', 'mourinho', 'club', 'liverpool', 'united', 'league', 'arsenal', 'chelsea']\n",
      "*\n",
      "\n",
      "The top 10 words for topic #4\n",
      "['tests', 'charges', 'olympics', 'doping', 'athens', 'drugs', 'iaaf', 'greek', 'thanou', 'kenteris']\n",
      "*\n",
      "\n",
      "The top 10 words for topic #5\n",
      "['championships', '60m', 'record', 'champion', 'european', 'world', 'holmes', 'olympic', 'race', 'indoor']\n",
      "*\n",
      "\n",
      "The top 10 words for topic #6\n",
      "['andrew', 'boje', 'flintoff', 'trescothick', 'jones', 'strauss', 'vaughan', 'africa', 'england', 'south']\n",
      "*\n",
      "\n"
     ]
    }
   ],
   "source": [
    "for index,topic in enumerate(nmf.components_):\n",
    "  print(f'The top 10 words for topic #{index}')\n",
    "  print([tfidf.get_feature_names_out()[i] for i in topic.argsort()[-10:]])\n",
    "  print('*\\n')"
   ]
  },
  {
   "cell_type": "code",
   "execution_count": 14,
   "id": "14025909",
   "metadata": {},
   "outputs": [],
   "source": [
    "from collections import defaultdict\n",
    "\n",
    "category_docs = defaultdict(list)\n",
    "for text, label in zip(texts, labels):\n",
    "    category_docs[label].append(text)"
   ]
  },
  {
   "cell_type": "code",
   "execution_count": 15,
   "id": "c0b12ea3",
   "metadata": {},
   "outputs": [],
   "source": [
    "def extract_topics(texts, n_topics=5, top_n_words=10):\n",
    "    vectorizer = TfidfVectorizer(max_df=0.95, min_df=2, stop_words='english')\n",
    "    tfidf = vectorizer.fit_transform(texts)\n",
    "\n",
    "    nmf = NMF(n_components=n_topics, random_state=42)\n",
    "    nmf_topics = nmf.fit_transform(tfidf)\n",
    "\n",
    "    feature_names = vectorizer.get_feature_names_out()\n",
    "    topics = []\n",
    "    for topic_idx, topic in enumerate(nmf.components_):\n",
    "        top_words = [feature_names[i] for i in topic.argsort()[:-top_n_words - 1:-1]]\n",
    "        topics.append(top_words)\n",
    "    return topics"
   ]
  },
  {
   "cell_type": "code",
   "execution_count": 16,
   "id": "7e22a2cb",
   "metadata": {},
   "outputs": [
    {
     "data": {
      "text/plain": [
       "['athletics', 'cricket', 'football', 'rugby', 'tennis']"
      ]
     },
     "execution_count": 16,
     "metadata": {},
     "output_type": "execute_result"
    }
   ],
   "source": [
    "list(category_docs)"
   ]
  },
  {
   "cell_type": "code",
   "execution_count": 17,
   "id": "da62a3d8",
   "metadata": {},
   "outputs": [
    {
     "name": "stdout",
     "output_type": "stream",
     "text": [
      "Tennis Sub-category 1: seed, set, federer, match, agassi, final, hewitt, second, win, williams\n",
      "Tennis Sub-category 2: cup, davis, moya, year, said, open, roddick, tennis, murray, injury\n"
     ]
    }
   ],
   "source": [
    "tennis_topics = extract_topics(category_docs[\"tennis\"], n_topics=2, top_n_words=10)\n",
    "for i, topic in enumerate(tennis_topics):\n",
    "    print(f\"Tennis Sub-category {i+1}: {', '.join(topic)}\")"
   ]
  },
  {
   "cell_type": "markdown",
   "id": "221ca382",
   "metadata": {},
   "source": [
    "### Named Entity Recongnition"
   ]
  },
  {
   "cell_type": "code",
   "execution_count": 18,
   "id": "8a9dcdab",
   "metadata": {},
   "outputs": [
    {
     "name": "stderr",
     "output_type": "stream",
     "text": [
      "Some weights of the model checkpoint at dbmdz/bert-large-cased-finetuned-conll03-english were not used when initializing BertForTokenClassification: ['bert.pooler.dense.bias', 'bert.pooler.dense.weight']\n",
      "- This IS expected if you are initializing BertForTokenClassification from the checkpoint of a model trained on another task or with another architecture (e.g. initializing a BertForSequenceClassification model from a BertForPreTraining model).\n",
      "- This IS NOT expected if you are initializing BertForTokenClassification from the checkpoint of a model that you expect to be exactly identical (initializing a BertForSequenceClassification model from a BertForSequenceClassification model).\n",
      "Device set to use cpu\n"
     ]
    }
   ],
   "source": [
    "from transformers import pipeline\n",
    "\n",
    "ner = pipeline(\"ner\", model=\"dbmdz/bert-large-cased-finetuned-conll03-english\", aggregation_strategy=\"simple\")\n",
    "\n",
    "def extract_person_and_job(text):\n",
    "    entities = ner(text)\n",
    "    persons = [e for e in entities if e['entity_group'] == 'PER']\n",
    "    # Simple pattern: Find \"Person, Job\" in text\n",
    "    results = []\n",
    "    for person in persons:\n",
    "        start, end = person['start'], person['end']\n",
    "        # Look for \", JOB\" after the name, up to 40 chars ahead\n",
    "        tail = text[end:end+40]\n",
    "        import re\n",
    "        match = re.search(r', ([\\w\\s]+)[\\.,]', tail)\n",
    "        job = match.group(1).strip() if match else None\n",
    "        results.append({\"name\": person['word'], \"job\": job})\n",
    "    return results"
   ]
  },
  {
   "cell_type": "code",
   "execution_count": 19,
   "id": "c7dfe7d6",
   "metadata": {},
   "outputs": [
    {
     "name": "stdout",
     "output_type": "stream",
     "text": [
      "[[{'name': 'Henman', 'job': None}, {'name': 'Rusedski Tim Henman', 'job': None}, {'name': 'Greg Rusedski', 'job': None}, {'name': 'Rusedski', 'job': None}, {'name': 'Rusedski', 'job': None}, {'name': 'Henman', 'job': None}, {'name': 'Henman', 'job': None}, {'name': 'Rusedski', 'job': None}, {'name': 'Rusedski', 'job': None}, {'name': 'Henman', 'job': None}, {'name': 'Rusedski', 'job': None}, {'name': 'Henman', 'job': 'seeded three'}, {'name': 'Rusedski', 'job': None}, {'name': 'Henman', 'job': None}, {'name': 'Henman', 'job': None}, {'name': 'Rusedski', 'job': None}, {'name': 'Henman', 'job': None}, {'name': 'Rusedski', 'job': None}, {'name': 'Henman', 'job': None}, {'name': 'Igor Andreev', 'job': None}], [{'name': 'Safin', 'job': None}, {'name': 'Marat Safin', 'job': None}, {'name': 'Nicolas Kiefer', 'job': None}, {'name': 'Safin', 'job': None}, {'name': 'Kiefer', 'job': None}, {'name': 'Feliciano Lopez', 'job': None}, {'name': 'Andre Agassi', 'job': None}, {'name': 'Paradorn Srichaphan', 'job': None}, {'name': 'Lopez', 'job': None}, {'name': 'Roger Federer', 'job': None}, {'name': 'Fabrice Santoro', 'job': None}, {'name': 'Nikolay Davydenko', 'job': None}, {'name': 'Igor Andreev', 'job': None}, {'name': 'Mikhail Youzhny', 'job': None}], [{'name': 'Ferrero', 'job': None}, {'name': 'Juan Carlos Ferrero', 'job': None}, {'name': 'Ferrero', 'job': None}, {'name': 'Juan Carlos', 'job': 'and very soon'}, {'name': 'Rainer Schuettler', 'job': None}, {'name': 'David Nalbandian', 'job': None}, {'name': 'Ferrero', 'job': None}, {'name': 'Joachim Johansson', 'job': None}, {'name': 'Ferrero', 'job': None}, {'name': 'Ferrero', 'job': None}, {'name': 'Ferrero', 'job': None}, {'name': 'Jordi', 'job': None}, {'name': 'Davis', 'job': None}, {'name': 'Ferrero', 'job': None}, {'name': 'Nadal', 'job': None}], [{'name': 'Roddick', 'job': None}, {'name': 'Andy Roddick', 'job': None}, {'name': 'Cyril Saulnier', 'job': None}, {'name': 'Tommy Haas', 'job': 'the third seed'}, {'name': 'Saulnier', 'job': None}, {'name': 'Jurgen Melzer', 'job': None}, {'name': 'Melzer', 'job': None}, {'name': 'Roddick', 'job': None}, {'name': 'Roddick', 'job': None}, {'name': 'Haas', 'job': None}, {'name': 'Haas', 'job': None}, {'name': 'Saulnier', 'job': None}], [{'name': 'Federer', 'job': None}, {'name': 'Roger Federer', 'job': None}, {'name': 'Ivan Ljubicic', 'job': None}, {'name': 'Federer', 'job': None}, {'name': 'Ljubicic', 'job': 'who beat Tim Henman in the last eight'}, {'name': 'Tim Henman', 'job': None}, {'name': 'Federer', 'job': 'though'}, {'name': 'Federer', 'job': None}, {'name': 'Ljubicic', 'job': None}, {'name': 'Federer', 'job': None}, {'name': 'Ljubicic', 'job': None}, {'name': 'Roger', 'job': None}, {'name': 'Roger', 'job': None}], [{'name': 'Young', 'job': None}, {'name': 'Ginepri', 'job': None}, {'name': 'Donald Young', 'job': None}, {'name': 'Young', 'job': None}, {'name': 'Robby Ginepri', 'job': None}, {'name': 'Young', 'job': None}, {'name': 'Ginepri', 'job': None}, {'name': 'Ginepri', 'job': None}, {'name': 'Hyung - Taik Lee', 'job': None}, {'name': 'Jan - Michael Gambill', 'job': None}, {'name': 'Kevin Kim', 'job': None}, {'name': 'Jan Hernych', 'job': None}, {'name': 'Frank Dancevic', 'job': None}, {'name': 'Jeff Morrison', 'job': None}, {'name': 'Kenneth Carlsen', 'job': None}, {'name': 'Irakli Labadze', 'job': None}, {'name': 'Andy Roddick', 'job': None}, {'name': 'Paul Goldstein', 'job': None}, {'name': 'Andre A', 'job': None}, {'name': '##si', 'job': None}, {'name': 'Bobby Reynolds', 'job': None}, {'name': 'A', 'job': None}, {'name': '##si', 'job': None}, {'name': 'San Jose', 'job': None}, {'name': 'Mar', 'job': None}, {'name': 'Fish', 'job': None}, {'name': 'Fish', 'job': None}, {'name': 'Roddick', 'job': None}], [{'name': 'Melzer', 'job': None}, {'name': 'Agassi', 'job': None}, {'name': 'Andre Agassi', 'job': None}, {'name': 'Jurgen Melzer', 'job': None}, {'name': 'Agassi', 'job': None}, {'name': 'Andy Roddick', 'job': None}, {'name': 'Thomas Enqvist', 'job': None}, {'name': 'Cyril Saulnier', 'job': None}, {'name': 'Vincent Spadea', 'job': None}, {'name': 'Tommy Haas', 'job': None}, {'name': 'Max Mirnyi', 'job': None}, {'name': 'Melzer', 'job': None}, {'name': 'Agassi', 'job': None}, {'name': 'Andre', 'job': None}, {'name': 'Agassi', 'job': None}, {'name': 'Melzer', 'job': None}, {'name': 'Agassi', 'job': None}], [{'name': 'Federer', 'job': None}, {'name': 'Roger Federer', 'job': None}, {'name': 'Juan Carlos Ferrero', 'job': None}, {'name': 'Federer', 'job': None}, {'name': 'Ferrero', 'job': None}, {'name': 'Mikhail Youzhny', 'job': None}, {'name': 'Rainer Schuettler', 'job': None}, {'name': 'Federer', 'job': None}, {'name': 'Ivan Ljubicic', 'job': None}, {'name': 'Ivo Minar', 'job': None}], [{'name': 'Nadal', 'job': None}, {'name': 'Rafael Nadal', 'job': None}, {'name': 'Guillermo Canas', 'job': None}, {'name': 'Nadal', 'job': None}, {'name': 'Alberto Martin', 'job': None}, {'name': 'Mariano Puerta', 'job': None}, {'name': 'Carlos Moya', 'job': None}, {'name': 'Felix Mantilla', 'job': None}, {'name': 'Jiri Novak', 'job': None}, {'name': 'Agustin Calleri', 'job': None}, {'name': 'Albert Montanes', 'job': None}, {'name': 'Montanes', 'job': None}, {'name': 'Filippo Volandri', 'job': None}, {'name': 'Agustin Calleri', 'job': None}, {'name': 'Jiri Novak', 'job': None}, {'name': 'Calleri', 'job': None}, {'name': 'Novak', 'job': None}, {'name': 'Calleri', 'job': None}, {'name': 'Albert Montanes', 'job': None}, {'name': 'Filippo Volandri', 'job': None}, {'name': 'Mariano Puerta', 'job': None}, {'name': 'Felix Mantilla', 'job': None}], [{'name': 'Hantuchova', 'job': None}, {'name': 'Daniela Hantuchova', 'job': None}, {'name': 'Elene Likhotseva', 'job': None}, {'name': 'Serena Williams', 'job': None}, {'name': 'Williams', 'job': None}, {'name': 'Elena Bovina', 'job': None}, {'name': 'Lindsay Davenport', 'job': None}, {'name': 'Anastasia Myskina', 'job': None}, {'name': 'Davenport', 'job': None}, {'name': 'Jie Zheng', 'job': None}, {'name': 'Myskina', 'job': None}, {'name': 'Marion Bartoli', 'job': None}, {'name': 'Davenport', 'job': None}, {'name': 'Conchita Martinez', 'job': None}, {'name': 'Nathalie Dechy', 'job': None}, {'name': 'Myskina', 'job': None}, {'name': 'Patty Schnyder', 'job': None}, {'name': 'Li Na', 'job': None}, {'name': 'Sania Mirza', 'job': None}, {'name': 'Jelena Jankovic', 'job': None}, {'name': 'Martinez', 'job': None}, {'name': 'Davenport', 'job': None}, {'name': 'Williams', 'job': None}, {'name': 'Hantuchova', 'job': None}, {'name': 'Williams', 'job': None}, {'name': 'Serena', 'job': None}], [{'name': 'Parmar', 'job': None}, {'name': 'Arvind Parmar', 'job': None}, {'name': 'Alex Bogdanovic', 'job': None}, {'name': 'Parmar', 'job': None}, {'name': 'Bogdanovic', 'job': None}, {'name': 'Greg Rusedski', 'job': None}, {'name': 'Jeremy Bates', 'job': None}, {'name': 'Andrew Murray', 'job': None}, {'name': 'David Sherwood', 'job': None}, {'name': 'Bogdanovic', 'job': None}, {'name': 'Murray', 'job': None}, {'name': 'Jamie Delgado', 'job': None}, {'name': 'Lee Childs', 'job': None}, {'name': 'Bates', 'job': None}, {'name': 'Sherwood', 'job': None}, {'name': 'Bates', 'job': None}, {'name': 'David', 'job': None}, {'name': 'Sherwood', 'job': None}, {'name': 'Bates', 'job': None}, {'name': 'Rusedski', 'job': None}, {'name': 'Tim Henman', 'job': None}, {'name': 'Bates', 'job': None}], [{'name': 'Davenport', 'job': None}, {'name': 'Lindsay Davenport', 'job': None}, {'name': 'Tim Phillips', 'job': None}, {'name': 'Phillips', 'job': None}, {'name': 'Phillips', 'job': None}, {'name': 'Davenport', 'job': None}, {'name': 'Daveport', 'job': None}, {'name': 'Serena Williams', 'job': 'who is also in Dubai'}], [{'name': 'Federer', 'job': None}, {'name': 'Roger Federer', 'job': None}, {'name': 'Ivan Ljubicic', 'job': None}, {'name': 'Federer', 'job': None}, {'name': 'Ljubicic', 'job': 'who beat Tim Henman in the last eight'}, {'name': 'Tim Henman', 'job': None}, {'name': 'Federer', 'job': 'though'}, {'name': 'Federer', 'job': None}, {'name': 'Ljubicic', 'job': None}, {'name': 'Federer', 'job': None}, {'name': 'Ljubicic', 'job': None}, {'name': 'Roger', 'job': None}, {'name': 'Roger', 'job': None}], [{'name': 'Hen', 'job': None}, {'name': 'Tim Henman', 'job': None}, {'name': 'Ivan Ljubicic', 'job': None}, {'name': 'Henman', 'job': None}, {'name': 'Ljubicic', 'job': None}, {'name': 'Henman', 'job': None}, {'name': 'Tommy Robredo', 'job': None}, {'name': 'Nicolas Kiefer', 'job': None}, {'name': 'Henman', 'job': None}, {'name': 'Henman', 'job': None}], [{'name': 'Mirza', 'job': None}, {'name': 'Kuznetsova Sania Mirza', 'job': None}, {'name': 'Svetlana Kuznetsova', 'job': None}, {'name': 'Mirza', 'job': None}, {'name': 'Daniela Hantuchova', 'job': None}, {'name': 'Alicia Molik', 'job': None}, {'name': 'Mirza', 'job': None}, {'name': 'Kuznetsova', 'job': None}, {'name': 'Mirza', 'job': None}, {'name': 'Mirza', 'job': None}, {'name': 'Silvia Farina Elia', 'job': None}, {'name': 'Jelena Jankovic', 'job': None}, {'name': 'Hantuchova', 'job': None}, {'name': 'Hantuchova', 'job': None}, {'name': 'Elena Likhovtseva', 'job': None}, {'name': 'Selima Sfar', 'job': None}, {'name': 'Likhovtseva', 'job': None}, {'name': 'Sfar', 'job': None}, {'name': 'Nathali', 'job': None}, {'name': 'Dechy', 'job': None}, {'name': 'Elena Bovina', 'job': None}], [{'name': 'Hantuchova', 'job': None}, {'name': 'Daniela Hantuchova', 'job': None}, {'name': 'Elene Likhotseva', 'job': None}, {'name': 'Serena Williams', 'job': None}, {'name': 'Williams', 'job': None}, {'name': 'Elena Bovina', 'job': None}, {'name': 'Lindsay Davenport', 'job': None}, {'name': 'Anastasia Myskina', 'job': None}, {'name': 'Davenport', 'job': None}, {'name': 'Jie Zheng', 'job': None}, {'name': 'Myskina', 'job': None}, {'name': 'Marion Bartoli', 'job': None}, {'name': 'Davenport', 'job': None}, {'name': 'Conchita Martinez', 'job': None}, {'name': 'Nathalie Dechy', 'job': None}, {'name': 'Myskina', 'job': None}, {'name': 'Patty Schnyder', 'job': None}, {'name': 'Li Na', 'job': None}, {'name': 'Sania Mirza', 'job': None}, {'name': 'Jelena Jankovic', 'job': None}, {'name': 'Martinez', 'job': None}, {'name': 'Davenport', 'job': None}, {'name': 'Williams', 'job': None}, {'name': 'Hantuchova', 'job': None}, {'name': 'Williams', 'job': None}, {'name': 'Serena', 'job': None}], [{'name': 'Murray', 'job': None}, {'name': 'Andrew Murray', 'job': None}, {'name': 'David Sherwood', 'job': None}, {'name': 'Jonathan Erlich', 'job': None}, {'name': 'Andy Ram', 'job': None}, {'name': 'Murray', 'job': None}, {'name': 'Roger Becker', 'job': None}, {'name': 'Greg Rusedski', 'job': None}, {'name': 'Tim Henman', 'job': None}, {'name': 'Alex Bogdanovic', 'job': None}, {'name': 'Rusedski', 'job': None}, {'name': 'Harel Levy', 'job': None}, {'name': 'Bogdanovic', 'job': None}, {'name': 'Noam Okun', 'job': None}, {'name': 'Murray', 'job': None}, {'name': 'Tim Henman', 'job': None}, {'name': 'Andy Ram', 'job': None}, {'name': 'Jonathan Erlich', 'job': None}, {'name': 'Henman', 'job': None}, {'name': 'Bogdanovic', 'job': None}, {'name': 'Alex', 'job': None}], [{'name': 'Davenport', 'job': None}, {'name': 'Lindsay Davenport', 'job': None}, {'name': 'Tim Phillips', 'job': None}, {'name': 'Phillips', 'job': None}, {'name': 'Phillips', 'job': None}, {'name': 'Davenport', 'job': None}, {'name': 'Daveport', 'job': None}, {'name': 'Serena Williams', 'job': 'who is also in Dubai'}], [{'name': 'Venus', 'job': None}, {'name': 'Farina Elia Venus Williams', 'job': None}, {'name': 'Sylvia Farina Elia', 'job': None}, {'name': 'Conchita Martinez', 'job': None}, {'name': 'Sania Mirza', 'job': None}, {'name': 'Martinez', 'job': '32'}, {'name': 'Shinobu Asagoe', 'job': None}, {'name': 'Mirza', 'job': None}, {'name': 'Jelena Kostanic', 'job': None}, {'name': 'Mirza', 'job': None}, {'name': 'Svetlana Kuznetsova', 'job': None}, {'name': 'Kuznetsova', 'job': None}, {'name': 'Williams', 'job': None}, {'name': 'Farina Elia', 'job': None}], [{'name': 'Martinez', 'job': None}, {'name': 'Vinci', 'job': None}, {'name': 'Conchita Martinez', 'job': None}, {'name': 'Roberta Vinci', 'job': None}, {'name': 'Anastasia Myskina', 'job': None}, {'name': 'Patty Schnyder', 'job': None}, {'name': 'Na Li', 'job': None}, {'name': 'Daniela Hantuchova', 'job': None}, {'name': 'Magdaleena Maleeva', 'job': None}, {'name': 'Elena Bovina', 'job': None}, {'name': 'Martinez', 'job': None}, {'name': 'Vinci', 'job': None}, {'name': 'Vinci', 'job': None}, {'name': 'Martinez', 'job': None}, {'name': 'Ai Sugiyama', 'job': None}, {'name': 'Samantha Stosur', 'job': None}, {'name': 'Nicole Pratt', 'job': None}, {'name': 'Selima Sfar', 'job': None}, {'name': 'Alicia Molik', 'job': None}]]\n"
     ]
    }
   ],
   "source": [
    "results = [extract_person_and_job(text) for text in category_docs[\"tennis\"]]\n",
    "print(results[:20])"
   ]
  },
  {
   "cell_type": "code",
   "execution_count": 20,
   "id": "15c514d5",
   "metadata": {},
   "outputs": [],
   "source": [
    "import spacy\n",
    "nlp = spacy.load(\"en_core_web_sm\")\n",
    "def spacy_job_title_extract(text):\n",
    "    doc = nlp(text)\n",
    "    results = []\n",
    "    for ent in doc.ents:\n",
    "        if ent.label_ == \"PERSON\":\n",
    "            for token in ent.root.children:\n",
    "                if token.dep_ == \"appos\":\n",
    "                    results.append({\"name\": ent.text, \"job\": token.text})\n",
    "    return results"
   ]
  },
  {
   "cell_type": "code",
   "execution_count": 21,
   "id": "a9ccb7c2",
   "metadata": {},
   "outputs": [
    {
     "name": "stdout",
     "output_type": "stream",
     "text": [
      "[[], [], [], [], [], [], [{'name': 'Thomas Enqvist', 'job': '7'}], [], [{'name': 'Felix Mantilla', 'job': '6'}], [{'name': 'Jie Zheng', 'job': '7'}], [], [], [], [], [], [{'name': 'Jie Zheng', 'job': '7'}], [], [], [{'name': 'Conchita Martinez', 'job': 'players'}, {'name': 'Martinez', 'job': '32'}, {'name': 'Shinobu Asagoe', 'job': '6'}], [{'name': 'Na Li', 'job': '7'}]]\n"
     ]
    }
   ],
   "source": [
    "results2 = [spacy_job_title_extract(text) for text in category_docs[\"tennis\"]]\n",
    "print(results2[:20])"
   ]
  },
  {
   "cell_type": "code",
   "execution_count": 22,
   "id": "8d934272",
   "metadata": {},
   "outputs": [
    {
     "name": "stdout",
     "output_type": "stream",
     "text": [
      "[[], [], [{'name': 'Ato', 'job': 'Boldon'}], [{'name': 'Frankie Fredericks', 'job': 'member'}], [], [{'name': 'Scott', 'job': 'indoors'}], [{'name': 'Mark Carroll', 'job': 'holder'}, {'name': 'Craig Mottram', 'job': 'winner'}], [{'name': 'Hansen', 'job': 'champion'}], [], [{'name': 'Sydney Olympic', 'job': 'm'}, {'name': 'Sydney Olympic', 'job': 'champion'}, {'name': 'Sydney Olympic', 'job': 'Greene'}], [], [{'name': 'Edwards', 'job': 'himself'}], [{'name': 'Athletics Kenya', 'job': 'AK'}], [], [], [{'name': 'Kenteris', 'job': '31'}], [{'name': 'Nick Davies', 'job': 'spokesman'}], [], [], [{'name': 'Edwards', 'job': 'himself'}]]\n"
     ]
    }
   ],
   "source": [
    "results3 = [spacy_job_title_extract(text) for text in texts]\n",
    "print(results3[:20])"
   ]
  },
  {
   "cell_type": "code",
   "execution_count": 23,
   "id": "1dbd1ccd",
   "metadata": {},
   "outputs": [
    {
     "name": "stderr",
     "output_type": "stream",
     "text": [
      "Device set to use cpu\n"
     ]
    },
    {
     "name": "stdout",
     "output_type": "stream",
     "text": [
      "[{'summary_text': \"Sonia O'Sullivan has indicated that she would like to participate in next month's World Cross Country Championships in St Etienne. The 35-year-old Cobh runner may be included in the official line-up for the event in France on 19-20 March.\"}]\n"
     ]
    }
   ],
   "source": [
    "# Text Summarisation Model\n",
    "\n",
    "summarizer = pipeline(\"summarization\", model=\"facebook/bart-large-cnn\")\n",
    "sum = summarizer(texts[1], max_length=130, min_length=30, do_sample=False)\n",
    "print(sum)"
   ]
  },
  {
   "cell_type": "code",
   "execution_count": 24,
   "id": "0f4d3fb4",
   "metadata": {},
   "outputs": [
    {
     "name": "stdout",
     "output_type": "stream",
     "text": [
      "O'Sullivan could run in Worlds\n",
      "\n",
      "Sonia O'Sullivan has indicated that she would like to participate in next month's World Cross Country Championships in St Etienne.\n",
      "\n",
      "Athletics Ireland have hinted that the 35-year-old Cobh runner may be included in the official line-up for the event in France on 19-20 March. Provincial teams were selected after last Saturday's Nationals in Santry and will be officially announced this week. O'Sullivan is at present preparing for the London marathon on 17 April. The participation of O'Sullivan, currentily training at her base in Australia, would boost the Ireland team who won the bronze three years agio. The first three at Santry last Saturday, Jolene Byrne, Maria McCambridge and Fionnualla Britton, are automatic selections and will most likely form part of the long-course team. O'Sullivan will also take part in the Bupa Great Ireland Run on 9 April in Dublin.\n",
      "\n",
      "\n",
      "[{'summary_text': \"Sonia O'Sullivan has indicated that she would like to participate in next month's World Cross Country Championships in St Etienne. The 35-year-old Cobh runner may be included in the official line-up for the event in France on 19-20 March.\"}]\n"
     ]
    }
   ],
   "source": [
    "print(texts[1])\n",
    "print('\\n')\n",
    "print(sum)"
   ]
  }
 ],
 "metadata": {
  "kernelspec": {
   "display_name": "Python 3 (ipykernel)",
   "language": "python",
   "name": "python3"
  },
  "language_info": {
   "codemirror_mode": {
    "name": "ipython",
    "version": 3
   },
   "file_extension": ".py",
   "mimetype": "text/x-python",
   "name": "python",
   "nbconvert_exporter": "python",
   "pygments_lexer": "ipython3",
   "version": "3.10.9"
  }
 },
 "nbformat": 4,
 "nbformat_minor": 5
}
